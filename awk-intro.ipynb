{
 "cells": [
  {
   "cell_type": "markdown",
   "metadata": {},
   "source": [
    "# Intoduction à Awk\n",
    "\n",
    "`awk` est une outil Unix qui permet de traiter les lignes d'un fichier texte, lu en colonnes. Cela signifie que `awk` lit un fichier ligne par ligne mais peut filtrer et sélectionner des éléments sur la base de colonnes.\n",
    "\n",
    "La syntaxe de `awk` est :\n",
    "\n",
    "**`awk [options] 'filtres {actions}' fichier`**\n",
    "\n",
    "- ⚠️ Les guillemets simples `'` sont très importants.\n",
    "- Les filtres sont optionnels. Par défaut, tout est sélectionné.\n",
    "- Les actions sont optionnelles. Par défaut, toute la ligne est affichée.\n",
    "\n",
    "\n",
    "## Jeu de données\n",
    "\n",
    "Nous allons utiliser le jeu de données `people.dat` qui contient le sexe, le prénom, la taille et l'âge de différents individus.\n",
    "\n",
    "Exécutez la cellule ci-dessous pour télécharger le jeu de données :"
   ]
  },
  {
   "cell_type": "code",
   "execution_count": 1,
   "metadata": {},
   "outputs": [
    {
     "name": "stdout",
     "output_type": "stream",
     "text": [
      "--2020-09-17 18:59:43--  https://raw.githubusercontent.com/pierrepo/unix/master/people.dat\n",
      "Résolution de raw.githubusercontent.com (raw.githubusercontent.com)… 151.101.120.133\n",
      "Connexion à raw.githubusercontent.com (raw.githubusercontent.com)|151.101.120.133|:443… connecté.\n",
      "requête HTTP transmise, en attente de la réponse… 200 OK\n",
      "Taille : 372 [text/plain]\n",
      "Enregistre : «people.dat.1»\n",
      "\n",
      "people.dat.1        100%[===================>]     372  --.-KB/s    ds 0s      \n",
      "\n",
      "2020-09-17 18:59:43 (35,7 MB/s) - «people.dat.1» enregistré [372/372]\n",
      "\n"
     ]
    }
   ],
   "source": [
    "wget https://raw.githubusercontent.com/pierrepo/unix/master/people.dat"
   ]
  },
  {
   "cell_type": "markdown",
   "metadata": {},
   "source": [
    "Affichez ensuite le contenu du fichier téléchargé :"
   ]
  },
  {
   "cell_type": "code",
   "execution_count": 2,
   "metadata": {},
   "outputs": [
    {
     "name": "stdout",
     "output_type": "stream",
     "text": [
      "man     simon       175     33\n",
      "woman   clara       167     45\n",
      "man     serge       181     44\n",
      "woman   claire      174     31\n",
      "man     patrick     172     52\n",
      "woman   julie       168     37\n",
      "man     paul        185     29\n",
      "woman   jeanne      172     56\n",
      "man     baptiste    178     39\n",
      "woman   mathilde    168     46\n",
      "man     bob         186     33\n",
      "woman   elise       159     63\n"
     ]
    }
   ],
   "source": [
    "cat people.dat"
   ]
  },
  {
   "cell_type": "markdown",
   "metadata": {},
   "source": [
    "Ce jeu de données contient les caractéristiques d'un certain nombre d'individus :\n",
    "\n",
    "- La première colonne contient le sexe de la personne (`man` ou `woman`).\n",
    "- La deuxième colonne contient le prénom.\n",
    "- La troisième colonne contient la taille (en centimètres).\n",
    "- La quatrième colonne contient l'âge (en années)."
   ]
  },
  {
   "cell_type": "markdown",
   "metadata": {},
   "source": [
    "## Filtres\n",
    "\n",
    "### Sélection par expression régulière\n",
    "\n",
    "Une expression régulière est une combinaison de caractères et de métacaractères (caractères ayant une signification spéciale) utilisée pour filtrer une chaîne de caractères cible. En anglais, une expression régulière se dit *regular expression* ou *regex*.\n",
    "\n",
    "Avec `awk`, une utilisation des expressions régulières est de la forme : `awk '/regex/ {actions}' fichier`\n",
    "\n",
    "On rappelle que les `{actions}` que nous verrons par la suite sont optionnelles. On peut donc écrire directement `awk '/regex/' fichier`\n",
    "\n",
    "On effectue un test avec l'expression régulière sur chaque ligne et on affiche la ligne si le test est vérifié. La notion de colonne n'a pas encore d'importance ici. Par exemple, on cherche dans le jeu de données le mot clef `woman` et on affiche les lignes qui le contiennent :"
   ]
  },
  {
   "cell_type": "code",
   "execution_count": 3,
   "metadata": {},
   "outputs": [
    {
     "name": "stdout",
     "output_type": "stream",
     "text": [
      "woman   clara       167     45\n",
      "woman   claire      174     31\n",
      "woman   julie       168     37\n",
      "woman   jeanne      172     56\n",
      "woman   mathilde    168     46\n",
      "woman   elise       159     63\n"
     ]
    }
   ],
   "source": [
    "awk '/woman/' people.dat"
   ]
  },
  {
   "cell_type": "markdown",
   "metadata": {},
   "source": [
    "Remarquez l'expression régulière `woman` qui se met entre `/ /`.\n",
    "\n",
    "Par exemple, pour afficher les lignes qui contiennent le caractère `i` puis n'importe quel caractère deux fois (`..`) puis le caractère `e` :"
   ]
  },
  {
   "cell_type": "code",
   "execution_count": 4,
   "metadata": {},
   "outputs": [
    {
     "name": "stdout",
     "output_type": "stream",
     "text": [
      "man     baptiste    178     39\n",
      "woman   mathilde    168     46\n"
     ]
    }
   ],
   "source": [
    "awk '/i..e/' people.dat"
   ]
  },
  {
   "cell_type": "markdown",
   "metadata": {},
   "source": [
    "### Sélection sur une colonne précise\n",
    "\n",
    "Bien sur, si l'expression régulière n'est pas très précise, on affiche beaucoup de lignes :"
   ]
  },
  {
   "cell_type": "code",
   "execution_count": 5,
   "metadata": {},
   "outputs": [
    {
     "name": "stdout",
     "output_type": "stream",
     "text": [
      "man     simon       175     33\n",
      "woman   clara       167     45\n",
      "man     serge       181     44\n",
      "woman   claire      174     31\n",
      "man     patrick     172     52\n",
      "woman   julie       168     37\n",
      "man     paul        185     29\n",
      "woman   jeanne      172     56\n",
      "man     baptiste    178     39\n",
      "woman   mathilde    168     46\n",
      "man     bob         186     33\n",
      "woman   elise       159     63\n"
     ]
    }
   ],
   "source": [
    "awk '/an/' people.dat"
   ]
  },
  {
   "cell_type": "markdown",
   "metadata": {},
   "source": [
    "Dans l'exemple ci-dessus, l'expression régulière `an` est présente dans la 1re et la 2e colonne.\n",
    "\n",
    "On peut alors demander à `awk` de vérifier l'expression régulière sur une colonne en particulier (ici la 2e) :"
   ]
  },
  {
   "cell_type": "code",
   "execution_count": 6,
   "metadata": {},
   "outputs": [
    {
     "name": "stdout",
     "output_type": "stream",
     "text": [
      "woman   jeanne      172     56\n"
     ]
    }
   ],
   "source": [
    "awk '$2~/an/' people.dat"
   ]
  },
  {
   "cell_type": "markdown",
   "metadata": {},
   "source": [
    "`awk` numérote automatique les colonnes de `$1` la première colonne à `$n` la n-ième colonne. La notation `$0` désigne toutes les colonnes (donc la ligne entière).\n",
    "\n",
    "```\n",
    "      man     simon       175     33\n",
    "      woman   clara       167     45\n",
    "      man     serge       181     44\n",
    "      woman   claire      174     31\n",
    "      man     patrick     172     52\n",
    "      woman   julie       168     37\n",
    "      man     paul        185     29\n",
    "      woman   jeanne      172     56\n",
    "      man     baptiste    178     39\n",
    "      woman   mathilde    168     46\n",
    "      man     bob         186     33\n",
    "$0 -- woman   elise       159     63\n",
    "      |       |           |       |\n",
    "      $1      $2          $3      $4\n",
    "```"
   ]
  },
  {
   "cell_type": "markdown",
   "metadata": {},
   "source": [
    "Exemple. Afficher les lignes pour lesquelles la seconde colonne débute par la lettre `p`. Le métacaractère `^` est utilisé pour indiquer le début de la colonne."
   ]
  },
  {
   "cell_type": "code",
   "execution_count": 7,
   "metadata": {},
   "outputs": [
    {
     "name": "stdout",
     "output_type": "stream",
     "text": [
      "man     patrick     172     52\n",
      "man     paul        185     29\n"
     ]
    }
   ],
   "source": [
    "awk '$2~/^p/' people.dat"
   ]
  },
  {
   "cell_type": "markdown",
   "metadata": {},
   "source": [
    "Exemple. Afficher les lignes pour lesquelles la quatrième colonne est supérieure (strictement) à 50 :"
   ]
  },
  {
   "cell_type": "code",
   "execution_count": 8,
   "metadata": {},
   "outputs": [
    {
     "name": "stdout",
     "output_type": "stream",
     "text": [
      "man     patrick     172     52\n",
      "woman   jeanne      172     56\n",
      "woman   elise       159     63\n"
     ]
    }
   ],
   "source": [
    "awk '$4 > 50' people.dat"
   ]
  },
  {
   "cell_type": "markdown",
   "metadata": {},
   "source": [
    "Pour revenir à `$0`, les deux commandes suivantes sont équivalentes :"
   ]
  },
  {
   "cell_type": "code",
   "execution_count": 9,
   "metadata": {},
   "outputs": [
    {
     "name": "stdout",
     "output_type": "stream",
     "text": [
      "man     baptiste    178     39\n",
      "woman   elise       159     63\n"
     ]
    }
   ],
   "source": [
    "awk '/is/' people.dat"
   ]
  },
  {
   "cell_type": "markdown",
   "metadata": {},
   "source": [
    "et"
   ]
  },
  {
   "cell_type": "code",
   "execution_count": 10,
   "metadata": {},
   "outputs": [
    {
     "name": "stdout",
     "output_type": "stream",
     "text": [
      "man     baptiste    178     39\n",
      "woman   elise       159     63\n"
     ]
    }
   ],
   "source": [
    "awk '$0~/is/' people.dat"
   ]
  },
  {
   "cell_type": "markdown",
   "metadata": {},
   "source": [
    "### Opérateurs de comparaisons\n",
    "\n",
    "Voici quelques opérateurs de comparaison pour les expressions régulières, les chaînes de caractères et les valeurs numériques.\n",
    "\n",
    "Pour les expressions régulières ou les chaînes de caractères :\n",
    "\n",
    "| opérateur | signification     |\n",
    "|-----------|-------------------|\n",
    "| `~`       | correspond        |\n",
    "| `!~`      | ne correspond pas |\n",
    "\n",
    "Pour les valeurs numériques :\n",
    "\n",
    "| opérateur | signification        |\n",
    "|-----------|----------------------|\n",
    "| `==`      | égal à               |\n",
    "| `!=`      | différent            |\n",
    "| `>`       | supérieur à          |\n",
    "| `>=`      | supérieur ou égale à |\n",
    "| `<`       | inférieur à          |\n",
    "| `<=`      | inférieur ou égale à |\n",
    "\n",
    "Combinaison de plusieurs comparaisons :\n",
    "\n",
    "| opérateur | signification |\n",
    "|-----------|---------------|\n",
    "| &&        | et            |\n",
    "| &#921;&#921;     | ou            |\n",
    "\n",
    "Exemple. Afficher les lignes pour lesquelles la première colonne débute par `m` (expression régulière `^m`) et la deuxième colonne contient `mo`."
   ]
  },
  {
   "cell_type": "code",
   "execution_count": 11,
   "metadata": {},
   "outputs": [
    {
     "name": "stdout",
     "output_type": "stream",
     "text": [
      "man     simon       175     33\n"
     ]
    }
   ],
   "source": [
    "awk '$1~/^m/ && $2~/mo/' people.dat"
   ]
  },
  {
   "cell_type": "markdown",
   "metadata": {},
   "source": [
    "Exemple. Afficher les lignes pour lesquelles la première colonne débute par `m` (expression régulière `^m`) et la troisième colonne est supérieure à 180. Pour la troisième colonne, on ne compare pas d'expression régulière entre `/ /` mais directement la valeur numérique."
   ]
  },
  {
   "cell_type": "code",
   "execution_count": 12,
   "metadata": {},
   "outputs": [
    {
     "name": "stdout",
     "output_type": "stream",
     "text": [
      "man     serge       181     44\n",
      "man     paul        185     29\n",
      "man     bob         186     33\n"
     ]
    }
   ],
   "source": [
    "awk '$1~/^m/ && $3 > 180' people.dat"
   ]
  },
  {
   "cell_type": "markdown",
   "metadata": {},
   "source": [
    "Exemple. Afficher les lignes pour lesquelles la première colonne débute par `m` (expression régulière `^m`) et la quatrième colonne est égale à 33.\n"
   ]
  },
  {
   "cell_type": "code",
   "execution_count": 13,
   "metadata": {},
   "outputs": [
    {
     "name": "stdout",
     "output_type": "stream",
     "text": [
      "man     simon       175     33\n",
      "man     bob         186     33\n"
     ]
    }
   ],
   "source": [
    "awk '$1~/^m/ && $4 == 33' people.dat"
   ]
  },
  {
   "cell_type": "markdown",
   "metadata": {},
   "source": [
    "Exemple. Afficher les lignes pour lesquelles la quatrième colonne est inférieure (strictement) à 30 **ou** supérieure (strictement) à 60 :"
   ]
  },
  {
   "cell_type": "code",
   "execution_count": 14,
   "metadata": {},
   "outputs": [
    {
     "name": "stdout",
     "output_type": "stream",
     "text": [
      "man     paul        185     29\n",
      "woman   elise       159     63\n"
     ]
    }
   ],
   "source": [
    "awk '$4 < 30 || $4 > 60' people.dat"
   ]
  },
  {
   "cell_type": "markdown",
   "metadata": {},
   "source": [
    "## Actions\n",
    "\n",
    "Pour mémoire, la syntaxe générale de `awk` est : **`awk [options] 'filtres {actions}' fichier`**\n",
    "\n",
    "L'action la plus courante avec `awk` est l'affichage avec la commande `print`.\n",
    "\n",
    "Exemple. Afficher la deuxième colonne des lignes qui contiennent le mot `woman` :"
   ]
  },
  {
   "cell_type": "code",
   "execution_count": 15,
   "metadata": {},
   "outputs": [
    {
     "name": "stdout",
     "output_type": "stream",
     "text": [
      "clara\n",
      "claire\n",
      "julie\n",
      "jeanne\n",
      "mathilde\n",
      "elise\n"
     ]
    }
   ],
   "source": [
    "awk '/woman/ {print $2}' people.dat"
   ]
  },
  {
   "cell_type": "markdown",
   "metadata": {},
   "source": [
    "Même chose, précédée de la chaîne de caractères `prenom :` :"
   ]
  },
  {
   "cell_type": "code",
   "execution_count": 16,
   "metadata": {},
   "outputs": [
    {
     "name": "stdout",
     "output_type": "stream",
     "text": [
      "prenom : clara\n",
      "prenom : claire\n",
      "prenom : julie\n",
      "prenom : jeanne\n",
      "prenom : mathilde\n",
      "prenom : elise\n"
     ]
    }
   ],
   "source": [
    "awk '/woman/ {print \"prenom :\", $2}' people.dat"
   ]
  },
  {
   "cell_type": "markdown",
   "metadata": {},
   "source": [
    "## Variables prédéfinies\n",
    "\n",
    "`awk` fournit automatiquement un certain nombre de variables prédéfinies :\n",
    "\n",
    "\n",
    "### Nombre de champs (colonnes) : `NF`"
   ]
  },
  {
   "cell_type": "code",
   "execution_count": 17,
   "metadata": {},
   "outputs": [
    {
     "name": "stdout",
     "output_type": "stream",
     "text": [
      "4\n"
     ]
    }
   ],
   "source": [
    "awk '/paul/ {print NF}' people.dat"
   ]
  },
  {
   "cell_type": "markdown",
   "metadata": {},
   "source": [
    "### Numéro de ligne : `NR`\n",
    "\n",
    "La première ligne du fichier porte le numéro 1."
   ]
  },
  {
   "cell_type": "code",
   "execution_count": 18,
   "metadata": {},
   "outputs": [
    {
     "name": "stdout",
     "output_type": "stream",
     "text": [
      "claire\n",
      "patrick\n"
     ]
    }
   ],
   "source": [
    "awk 'NR>3 && NR<=5 {print $2}' people.dat"
   ]
  },
  {
   "cell_type": "markdown",
   "metadata": {},
   "source": [
    "Exemple. Afficher les lignes paires :"
   ]
  },
  {
   "cell_type": "code",
   "execution_count": 19,
   "metadata": {},
   "outputs": [
    {
     "name": "stdout",
     "output_type": "stream",
     "text": [
      "clara\n",
      "claire\n",
      "julie\n",
      "jeanne\n",
      "mathilde\n",
      "elise\n"
     ]
    }
   ],
   "source": [
    "awk 'NR%2==0 {print $2}' people.dat"
   ]
  },
  {
   "cell_type": "markdown",
   "metadata": {},
   "source": [
    "Remarque : l'opérateur modulo `%` renvoie le reste de la division entière. Ainsi `4%2` renvoie 0, `5%2` renvoie 1, `6%2` renvoie 0, `7%2` renvoie 1, etc."
   ]
  },
  {
   "cell_type": "markdown",
   "metadata": {},
   "source": [
    "### Variables crées à la volée"
   ]
  },
  {
   "cell_type": "code",
   "execution_count": 20,
   "metadata": {},
   "outputs": [
    {
     "name": "stdout",
     "output_type": "stream",
     "text": [
      "1 clara\n",
      "2 claire\n",
      "3 julie\n",
      "4 jeanne\n",
      "5 mathilde\n",
      "6 elise\n"
     ]
    }
   ],
   "source": [
    "awk '/woman/ {a=a+1; print a, $2}' people.dat"
   ]
  },
  {
   "cell_type": "markdown",
   "metadata": {},
   "source": [
    "Dans cet exemple, la variable `a` n'existe pas a priori. Lorsque `awk` veut l'utiliser dans l'expression `a = a + 1`, il l'initialise à `0`. Il l'utilise ensuite dans l'expression `print a, $2`.\n",
    "\n",
    "Dans `awk`, deux actions sont séparées par le caractère `;`.\n",
    "\n",
    "L'expression `a=a+1` est équivalente à `a++`, qui présente l'avantage d'être plus compacte :"
   ]
  },
  {
   "cell_type": "code",
   "execution_count": 21,
   "metadata": {},
   "outputs": [
    {
     "name": "stdout",
     "output_type": "stream",
     "text": [
      "1 clara\n",
      "2 claire\n",
      "3 julie\n",
      "4 jeanne\n",
      "5 mathilde\n",
      "6 elise\n"
     ]
    }
   ],
   "source": [
    "awk '/woman/ {a++; print a, $2}' people.dat"
   ]
  },
  {
   "cell_type": "markdown",
   "metadata": {},
   "source": [
    "## BEGIN et END\n",
    "\n",
    "Les mot-clefs `BEGIN` et `END` ont une signification très particulière puisque les actions qui les suivent ne sont exécutées qu'au début (`BEGIN`) ou à la fin (`END`) du parcours du fichier.\n",
    "\n",
    "Exemple. Afficher la 2e colonne lorsque les lignes contiennent `woman`, puis le nombre total de lignes affichées."
   ]
  },
  {
   "cell_type": "code",
   "execution_count": 22,
   "metadata": {},
   "outputs": [
    {
     "name": "stdout",
     "output_type": "stream",
     "text": [
      "clara\n",
      "claire\n",
      "julie\n",
      "jeanne\n",
      "mathilde\n",
      "elise\n",
      "total: 6\n"
     ]
    }
   ],
   "source": [
    "awk '/woman/ {a++; print $2} END {print \"total:\", a }' people.dat"
   ]
  },
  {
   "cell_type": "markdown",
   "metadata": {},
   "source": [
    "L'action `{print \"total:\", a }` n'est exécutée que lorsque toutes les lignes du fichier `people.dat` ont été parcourues.\n",
    "\n",
    "Autre Exemple :\n",
    "\n",
    "- afficher `women found:` avant la lecture du fichier,\n",
    "- afficher la deuxième colonne des lignes du fichier `people.dat` qui contiennent `woman`,\n",
    "- afficher `total: ` avec le nombre total de lignes sélectionnées après la lecture du fichier."
   ]
  },
  {
   "cell_type": "code",
   "execution_count": 23,
   "metadata": {},
   "outputs": [
    {
     "name": "stdout",
     "output_type": "stream",
     "text": [
      "women found:\n",
      "clara\n",
      "claire\n",
      "julie\n",
      "jeanne\n",
      "mathilde\n",
      "elise\n",
      "total: 6\n"
     ]
    }
   ],
   "source": [
    "awk 'BEGIN {print \"women found:\"} \\\n",
    "/woman/ {a++; print $2} \\\n",
    "END {print \"total:\", a }' people.dat"
   ]
  },
  {
   "cell_type": "markdown",
   "metadata": {},
   "source": [
    "Remarque : le symbole `\\` en fin de ligne permet d'écrire une commande sur plusieurs lignes.\n",
    "\n",
    "Et deux derniers exemples pour terminer :\n",
    "\n",
    "Calculer et afficher l'âge moyen des femmes :"
   ]
  },
  {
   "cell_type": "code",
   "execution_count": 24,
   "metadata": {},
   "outputs": [
    {
     "name": "stdout",
     "output_type": "stream",
     "text": [
      "mean age: 46.3333\n"
     ]
    }
   ],
   "source": [
    "awk '/woman/ {age=age+$4; count++} \\\n",
    "END {print \"mean age:\", age/count}' people.dat"
   ]
  },
  {
   "cell_type": "markdown",
   "metadata": {},
   "source": [
    "Calculer et afficher l'âge moyen des femmes et afficher le nombre de femmes :"
   ]
  },
  {
   "cell_type": "code",
   "execution_count": null,
   "metadata": {},
   "outputs": [],
   "source": [
    "awk '/woman/ {age=age+$4; count++} \\"
   ]
  },
  {
   "cell_type": "markdown",
   "metadata": {},
   "source": [
    "# Script\n",
    "\n",
    "Lorsque les instructions `awk` deviennent trop nombreuses, il est plus pratique d'écrire un script dédié.\n",
    "\n",
    "Exemple. Calculer et afficher l'âge moyen des femmes et afficher le nombre de femmes.\n",
    "\n",
    "Les instructions `awk` sont dans le fichier `mean_age_women.awk` (téléchargeable [ici](https://raw.githubusercontent.com/patrickfuchs/cours-unix/master/files/awk/mean_age_women.awk)) :\n",
    "\n",
    "```\n",
    "BEGIN {\n",
    "age=0\n",
    "count=0\n",
    "}\n",
    "\n",
    "/woman/ {\n",
    "count++\n",
    "age=age+$4\n",
    "}\n",
    "\n",
    "END {\n",
    "print \"total woman:\", count\n",
    "print \"mean age:\", age/count\n",
    "}\n",
    "\n",
    "```\n",
    "\n",
    "Les blocs d'instructions sont ainsi plus lisibles. Le retour à la ligne suffit à séparer plusieurs actions (pas besoin de `;`).\n",
    "\n",
    "Téléchargez le script `mean_age_women.awk` :"
   ]
  },
  {
   "cell_type": "code",
   "execution_count": 26,
   "metadata": {},
   "outputs": [
    {
     "name": "stdout",
     "output_type": "stream",
     "text": [
      "--2020-09-17 18:59:46--  https://raw.githubusercontent.com/pierrepo/unix/master/mean_age_women.awk\n",
      "Résolution de raw.githubusercontent.com (raw.githubusercontent.com)… 151.101.120.133\n",
      "Connexion à raw.githubusercontent.com (raw.githubusercontent.com)|151.101.120.133|:443… connecté.\n",
      "requête HTTP transmise, en attente de la réponse… 200 OK\n",
      "Taille : 122 [text/plain]\n",
      "Enregistre : «mean_age_women.awk.1»\n",
      "\n",
      "mean_age_women.awk. 100%[===================>]     122  --.-KB/s    ds 0s      \n",
      "\n",
      "2020-09-17 18:59:46 (3,88 MB/s) - «mean_age_women.awk.1» enregistré [122/122]\n",
      "\n"
     ]
    }
   ],
   "source": [
    "wget https://raw.githubusercontent.com/pierrepo/unix/master/mean_age_women.awk"
   ]
  },
  {
   "cell_type": "markdown",
   "metadata": {},
   "source": [
    "Ce script s'utilise en appelant `awk` avec l'option `-f` :"
   ]
  },
  {
   "cell_type": "code",
   "execution_count": 27,
   "metadata": {},
   "outputs": [
    {
     "name": "stdout",
     "output_type": "stream",
     "text": [
      "total woman: 6\n",
      "mean age: 46.3333\n"
     ]
    }
   ],
   "source": [
    "awk -f mean_age_women.awk people.dat"
   ]
  },
  {
   "cell_type": "markdown",
   "metadata": {},
   "source": [
    "# Séparateur de champ : option -F\n",
    "\n",
    "Par défaut, `awk` suppose que les différentes colonnes (les différents champs) du fichier d'entrée sont séparées par des espaces ou des tabulations (une ou plusieurs.)\n",
    "\n",
    "L'option `-F` (à ne pas confondre avec `-f`) définit le caractère qui sépare les différentes colonnes entre elles.\n",
    "\n",
    "Dans notre exemple `people.dat`, les différentes colonnes sont séparées par des espaces (séparateur par défaut de `awk`).\n",
    "\n",
    "Pour le vérifier, on peut demander à `awk` d'afficher le nombre de colonnes trouvées pour la première ligne uniquement :"
   ]
  },
  {
   "cell_type": "code",
   "execution_count": 28,
   "metadata": {},
   "outputs": [
    {
     "name": "stdout",
     "output_type": "stream",
     "text": [
      "4\n"
     ]
    }
   ],
   "source": [
    "awk 'NR==1 {print NF}' people.dat"
   ]
  },
  {
   "cell_type": "markdown",
   "metadata": {},
   "source": [
    "Si on demande à `awk` de lire le même fichier mais en prenant le caractère `,` comme séparateur, `awk` ne trouve plus qu'un seul champ (car il n'y a pas de `,` dans le fichier `people.dat`) :"
   ]
  },
  {
   "cell_type": "code",
   "execution_count": 29,
   "metadata": {},
   "outputs": [
    {
     "name": "stdout",
     "output_type": "stream",
     "text": [
      "1\n"
     ]
    }
   ],
   "source": [
    "awk -F \",\" 'NR==1 {print NF}' people.dat"
   ]
  },
  {
   "cell_type": "markdown",
   "metadata": {},
   "source": [
    "Dans un fichier au format [*tabulation-separated values*](https://fr.wikipedia.org/wiki/Tabulation-separated_values) (`.tsv`), les différentes colonnes sont séparées par le caractère tabulation.\n",
    "\n",
    "Téléchargez par exemple le fichier `people.tsv` :"
   ]
  },
  {
   "cell_type": "code",
   "execution_count": 30,
   "metadata": {},
   "outputs": [
    {
     "name": "stdout",
     "output_type": "stream",
     "text": [
      "--2020-09-17 18:59:46--  https://raw.githubusercontent.com/pierrepo/unix/master/people.tsv\n",
      "Résolution de raw.githubusercontent.com (raw.githubusercontent.com)… 151.101.120.133\n",
      "Connexion à raw.githubusercontent.com (raw.githubusercontent.com)|151.101.120.133|:443… connecté.\n",
      "requête HTTP transmise, en attente de la réponse… 200 OK\n",
      "Taille : 223 [text/plain]\n",
      "Enregistre : «people.tsv.1»\n",
      "\n",
      "people.tsv.1        100%[===================>]     223  --.-KB/s    ds 0s      \n",
      "\n",
      "2020-09-17 18:59:47 (5,08 MB/s) - «people.tsv.1» enregistré [223/223]\n",
      "\n"
     ]
    }
   ],
   "source": [
    "wget https://raw.githubusercontent.com/pierrepo/unix/master/people.tsv"
   ]
  },
  {
   "cell_type": "markdown",
   "metadata": {},
   "source": [
    "Puis affichez le contenu de ce fichier :"
   ]
  },
  {
   "cell_type": "code",
   "execution_count": 31,
   "metadata": {},
   "outputs": [
    {
     "name": "stdout",
     "output_type": "stream",
     "text": [
      "man\tsimon\t175\t33\n",
      "woman\tclara\t167\t45\n",
      "man\tserge\t181\t44\n",
      "woman\tclaire\t174\t31\n",
      "man\tpatrick\t172\t52\n",
      "woman\tjulie\t168\t37\n",
      "man\tpaul\t185\t29\n",
      "woman\tjeanne\t172\t56\n",
      "man\tbaptiste\t178\t39\n",
      "woman\tmathilde\t168\t46\n",
      "man\tbob\t186\t33\n",
      "woman\telise\t159\t63\n"
     ]
    }
   ],
   "source": [
    "cat people.tsv"
   ]
  },
  {
   "cell_type": "markdown",
   "metadata": {},
   "source": [
    "Le caractère tabulation est un caractère \"élastique\", c'est-à-dire qu'il est affiché avec une taille variable correspondante à 1 ou plusieurs caractères. Regardez par exemple la première ligne du fichier `people.tsv` où les champs *man*, *simon*, *175* et *33* sont séparés les uns des autres par un seul caractère tabulation mais qui apparaît comme 1 ou plusieurs espaces.\n",
    "\n",
    "Pour lire un tel fichier avec `awk`, l'option `-F` n'est pas nécessaire car la tabulation est aussi le séparateur par défaut reconnu par `awk` (comme l'espace)."
   ]
  },
  {
   "cell_type": "code",
   "execution_count": 32,
   "metadata": {},
   "outputs": [
    {
     "name": "stdout",
     "output_type": "stream",
     "text": [
      "4\n"
     ]
    }
   ],
   "source": [
    "awk 'NR==1 {print NF}' people.tsv"
   ]
  },
  {
   "cell_type": "markdown",
   "metadata": {},
   "source": [
    "Par contre, dans un fichier au format [*comma-separated values*](https://fr.wikipedia.org/wiki/Comma-separated_values) (`.csv`), les différents champs sont séparés par une virgule.\n",
    "\n",
    "Téléchargez par exemple le fichier `people.csv` :"
   ]
  },
  {
   "cell_type": "code",
   "execution_count": 33,
   "metadata": {},
   "outputs": [
    {
     "name": "stdout",
     "output_type": "stream",
     "text": [
      "--2020-09-17 18:59:47--  https://raw.githubusercontent.com/pierrepo/unix/master/people.csv\n",
      "Résolution de raw.githubusercontent.com (raw.githubusercontent.com)… 151.101.120.133\n",
      "Connexion à raw.githubusercontent.com (raw.githubusercontent.com)|151.101.120.133|:443… connecté.\n",
      "requête HTTP transmise, en attente de la réponse… 200 OK\n",
      "Taille : 223 [text/plain]\n",
      "Enregistre : «people.csv.1»\n",
      "\n",
      "people.csv.1        100%[===================>]     223  --.-KB/s    ds 0s      \n",
      "\n",
      "2020-09-17 18:59:47 (20,1 MB/s) - «people.csv.1» enregistré [223/223]\n",
      "\n"
     ]
    }
   ],
   "source": [
    "wget https://raw.githubusercontent.com/pierrepo/unix/master/people.csv"
   ]
  },
  {
   "cell_type": "markdown",
   "metadata": {},
   "source": [
    "Puis affichez le contenu de ce fichier :"
   ]
  },
  {
   "cell_type": "code",
   "execution_count": 34,
   "metadata": {},
   "outputs": [
    {
     "name": "stdout",
     "output_type": "stream",
     "text": [
      "man,simon,175,33\n",
      "woman,clara,167,45\n",
      "man,serge,181,44\n",
      "woman,claire,174,31\n",
      "man,patrick,172,52\n",
      "woman,julie,168,37\n",
      "man,paul,185,29\n",
      "woman,jeanne,172,56\n",
      "man,baptiste,178,39\n",
      "woman,mathilde,168,46\n",
      "man,bob,186,33\n",
      "woman,elise,159,63\n"
     ]
    }
   ],
   "source": [
    "cat people.csv"
   ]
  },
  {
   "cell_type": "markdown",
   "metadata": {},
   "source": [
    "Ici, l'utilisation de l'option `-F` est indispensable pour que `awk` parcourt correctement le fichier :"
   ]
  },
  {
   "cell_type": "code",
   "execution_count": 35,
   "metadata": {},
   "outputs": [
    {
     "name": "stdout",
     "output_type": "stream",
     "text": [
      "1\n"
     ]
    }
   ],
   "source": [
    "awk 'NR==1 {print NF}' people.csv"
   ]
  },
  {
   "cell_type": "code",
   "execution_count": 36,
   "metadata": {},
   "outputs": [
    {
     "name": "stdout",
     "output_type": "stream",
     "text": [
      "4\n"
     ]
    }
   ],
   "source": [
    "awk -F \",\" 'NR==1 {print NF}' people.csv"
   ]
  },
  {
   "cell_type": "markdown",
   "metadata": {},
   "source": [
    "et sur un cas concret :"
   ]
  },
  {
   "cell_type": "code",
   "execution_count": 37,
   "metadata": {},
   "outputs": [
    {
     "name": "stdout",
     "output_type": "stream",
     "text": [
      "prenom : \n",
      "prenom : \n",
      "prenom : \n",
      "prenom : \n",
      "prenom : \n",
      "prenom : \n"
     ]
    }
   ],
   "source": [
    "awk '/woman/ {print \"prenom :\", $2}' people.csv"
   ]
  },
  {
   "cell_type": "code",
   "execution_count": 38,
   "metadata": {},
   "outputs": [
    {
     "name": "stdout",
     "output_type": "stream",
     "text": [
      "prenom : clara\n",
      "prenom : claire\n",
      "prenom : julie\n",
      "prenom : jeanne\n",
      "prenom : mathilde\n",
      "prenom : elise\n"
     ]
    }
   ],
   "source": [
    "awk -F \",\" '/woman/ {print \"prenom :\", $2}' people.csv"
   ]
  },
  {
   "cell_type": "markdown",
   "metadata": {},
   "source": [
    "En conclusion, `awk` est un outil très puissant pour manipuler des fichiers tabulés, c'est-à-dire avec une structure en lignes et en colonnes (même si une telle structure n'est pas toujours évidente).\n",
    "\n",
    "Soyez par contre toujours très attentif au format des fichiers que vous manipulez.\n"
   ]
  },
  {
   "cell_type": "code",
   "execution_count": null,
   "metadata": {},
   "outputs": [],
   "source": []
  },
  {
   "cell_type": "code",
   "execution_count": null,
   "metadata": {},
   "outputs": [],
   "source": []
  }
 ],
 "metadata": {
  "kernelspec": {
   "display_name": "Bash",
   "language": "bash",
   "name": "bash"
  },
  "language_info": {
   "codemirror_mode": "shell",
   "file_extension": ".sh",
   "mimetype": "text/x-sh",
   "name": "bash"
  }
 },
 "nbformat": 4,
 "nbformat_minor": 4
}
