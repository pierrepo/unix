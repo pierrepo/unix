{
 "cells": [
  {
   "cell_type": "markdown",
   "metadata": {},
   "source": [
    "# Awk - exercice 1 - éléments de correction\n",
    "\n",
    "L'objectif de cet exercice est d'approfondir vos compétences d'Unix, mais aussi de vous faire découvrir `awk`.\n",
    "\n",
    "## Préparation des données\n",
    "\n",
    "Supprimez tout d'abord un éventuel fichier résiduel :"
   ]
  },
  {
   "cell_type": "code",
   "execution_count": 1,
   "metadata": {},
   "outputs": [],
   "source": [
    "rm -f people.dat"
   ]
  },
  {
   "cell_type": "markdown",
   "metadata": {},
   "source": [
    "Téléchargez le fichier `people.dat` avec la commande :"
   ]
  },
  {
   "cell_type": "code",
   "execution_count": 2,
   "metadata": {},
   "outputs": [
    {
     "name": "stdout",
     "output_type": "stream",
     "text": [
      "--2020-09-17 22:16:10--  https://raw.githubusercontent.com/pierrepo/unix/master/people.dat\n",
      "Résolution de raw.githubusercontent.com (raw.githubusercontent.com)… 151.101.120.133\n",
      "Connexion à raw.githubusercontent.com (raw.githubusercontent.com)|151.101.120.133|:443… connecté.\n",
      "requête HTTP transmise, en attente de la réponse… 200 OK\n",
      "Taille : 372 [text/plain]\n",
      "Enregistre : «people.dat»\n",
      "\n",
      "people.dat          100%[===================>]     372  --.-KB/s    ds 0s      \n",
      "\n",
      "2020-09-17 22:16:10 (11,2 MB/s) - «people.dat» enregistré [372/372]\n",
      "\n"
     ]
    }
   ],
   "source": [
    "wget https://raw.githubusercontent.com/pierrepo/unix/master/people.dat"
   ]
  },
  {
   "cell_type": "markdown",
   "metadata": {},
   "source": [
    "*Remarque.* Si la commande `wget` n'est pas disponible sur votre machine, essayez d'utiliser la commande `curl` :\n",
    "```\n",
    "curl https://raw.githubusercontent.com/pierrepo/unix/master/people.dat -o people.dat\n",
    "```"
   ]
  },
  {
   "cell_type": "markdown",
   "metadata": {},
   "source": [
    "## Analyses\n",
    "\n",
    "\n",
    "### Nombre de femmes\n",
    "\n",
    "Déterminez combien de femmes sont présentes dans le jeu de données de plusieurs façons.\n",
    "\n",
    "1. En utilisant `grep` et `wc`."
   ]
  },
  {
   "cell_type": "code",
   "execution_count": 3,
   "metadata": {},
   "outputs": [
    {
     "name": "stdout",
     "output_type": "stream",
     "text": [
      "6\n"
     ]
    }
   ],
   "source": [
    "grep \"woman\" people.dat | wc -l"
   ]
  },
  {
   "cell_type": "markdown",
   "metadata": {},
   "source": [
    "2. En utilisant `grep` avec une option particulière. Pour trouver la bonne option, allez voir dans l'aide de `grep` (`grep --help`) et recherchez le mot clef *count*.\n",
    "\n",
    "Dans l'aide de `grep`, on trouve l'indication suivante pour l'option `-c` :\n",
    "```\n",
    "  -c, --count               n'afficher que le nombre de lignes sélectionnées par FICHIER\n",
    "```"
   ]
  },
  {
   "cell_type": "code",
   "execution_count": 4,
   "metadata": {},
   "outputs": [
    {
     "name": "stdout",
     "output_type": "stream",
     "text": [
      "6\n"
     ]
    }
   ],
   "source": [
    "grep -c \"woman\" people.dat"
   ]
  },
  {
   "cell_type": "markdown",
   "metadata": {},
   "source": [
    "3. En utilisant `awk` et `wc`."
   ]
  },
  {
   "cell_type": "code",
   "execution_count": 5,
   "metadata": {},
   "outputs": [
    {
     "name": "stdout",
     "output_type": "stream",
     "text": [
      "6\n"
     ]
    }
   ],
   "source": [
    "awk '/woman/' people.dat | wc -l"
   ]
  },
  {
   "cell_type": "markdown",
   "metadata": {},
   "source": [
    "### Mémo sur les expressions régulières\n",
    "\n",
    "Voici quelques métacaractères utiles pour la suite :\n",
    "- `^` : début d'une colonne (ou d'une ligne)\n",
    "- `$` : fin d'une colonne (ou d'une ligne)\n",
    "- `.` : n'importe quel caractère (1 seule fois)\n",
    "- `*` : entre 0 et plusieurs fois le caractère (ou métacaractère) précédent.\n",
    "    Par exemple :\n",
    "    + `a*` désigne rien ou `a` ou `aa`...\n",
    "    + `.*` désigne rien ou `ab` ou `1213DZDSDD` (n'importe quel caractère 0 ou plusieurs fois)\n",
    "\n",
    "### Nombre d'hommes\n",
    "\n",
    "Affichez tous les hommes présents dans le jeu de données de plusieurs manières.\n",
    "\n",
    "1. En utilisant `grep`."
   ]
  },
  {
   "cell_type": "code",
   "execution_count": 6,
   "metadata": {},
   "outputs": [
    {
     "name": "stdout",
     "output_type": "stream",
     "text": [
      "\u001b[01;31m\u001b[Kman\u001b[m\u001b[K     simon       175     33\n",
      "\u001b[01;31m\u001b[Kman\u001b[m\u001b[K     serge       181     44\n",
      "\u001b[01;31m\u001b[Kman\u001b[m\u001b[K     patrick     172     52\n",
      "\u001b[01;31m\u001b[Kman\u001b[m\u001b[K     paul        185     29\n",
      "\u001b[01;31m\u001b[Kman\u001b[m\u001b[K     baptiste    178     39\n",
      "\u001b[01;31m\u001b[Kman\u001b[m\u001b[K     bob         186     33\n"
     ]
    }
   ],
   "source": [
    "grep \"^man\" people.dat"
   ]
  },
  {
   "cell_type": "markdown",
   "metadata": {},
   "source": [
    "2. En utilisant `awk` et en filtrant sur la ligne entière."
   ]
  },
  {
   "cell_type": "code",
   "execution_count": 7,
   "metadata": {},
   "outputs": [
    {
     "name": "stdout",
     "output_type": "stream",
     "text": [
      "man     simon       175     33\n",
      "man     serge       181     44\n",
      "man     patrick     172     52\n",
      "man     paul        185     29\n",
      "man     baptiste    178     39\n",
      "man     bob         186     33\n"
     ]
    }
   ],
   "source": [
    "awk '/^man/' people.dat"
   ]
  },
  {
   "cell_type": "markdown",
   "metadata": {},
   "source": [
    "3. En utilisant `awk` et en filtrant sur la première colonne uniquement."
   ]
  },
  {
   "cell_type": "code",
   "execution_count": 8,
   "metadata": {},
   "outputs": [
    {
     "name": "stdout",
     "output_type": "stream",
     "text": [
      "man     simon       175     33\n",
      "man     serge       181     44\n",
      "man     patrick     172     52\n",
      "man     paul        185     29\n",
      "man     baptiste    178     39\n",
      "man     bob         186     33\n"
     ]
    }
   ],
   "source": [
    "awk '$1 ~ /^man/' people.dat"
   ]
  },
  {
   "cell_type": "markdown",
   "metadata": {},
   "source": [
    "### Sélection sur les prénoms\n",
    "\n",
    "Désormais, vous n'utiliserez que `awk`.\n",
    "\n",
    "Affichez toutes les femmes :\n",
    "\n",
    "1. Dont le prénom se termine par la lettre *e*."
   ]
  },
  {
   "cell_type": "code",
   "execution_count": 9,
   "metadata": {},
   "outputs": [
    {
     "name": "stdout",
     "output_type": "stream",
     "text": [
      "woman   claire      174     31\n",
      "woman   julie       168     37\n",
      "woman   jeanne      172     56\n",
      "woman   mathilde    168     46\n",
      "woman   elise       159     63\n"
     ]
    }
   ],
   "source": [
    "awk '/woman/ && $2 ~ /e$/' people.dat"
   ]
  },
  {
   "cell_type": "markdown",
   "metadata": {},
   "source": [
    "2. Dont le prénom se termine par la lettre *e* et débute par la lettre *m*."
   ]
  },
  {
   "cell_type": "code",
   "execution_count": 10,
   "metadata": {},
   "outputs": [
    {
     "name": "stdout",
     "output_type": "stream",
     "text": [
      "woman   mathilde    168     46\n"
     ]
    }
   ],
   "source": [
    "awk '/woman/ && $2 ~ /^m.*e$/' people.dat"
   ]
  },
  {
   "cell_type": "markdown",
   "metadata": {},
   "source": [
    "3. Dont la 3e lettre du prénom est *l*."
   ]
  },
  {
   "cell_type": "code",
   "execution_count": 11,
   "metadata": {},
   "outputs": [
    {
     "name": "stdout",
     "output_type": "stream",
     "text": [
      "woman   julie       168     37\n"
     ]
    }
   ],
   "source": [
    "awk '/woman/ && $2 ~ /^..l/' people.dat"
   ]
  },
  {
   "cell_type": "markdown",
   "metadata": {},
   "source": [
    "### Sélection sur plusieurs colonnes\n",
    "\n",
    "Affichez toutes les personnes\n",
    "1. dont le prénom se termine par la lettre *e* et dont la taille est supérieure à 1,70 m."
   ]
  },
  {
   "cell_type": "code",
   "execution_count": 12,
   "metadata": {},
   "outputs": [
    {
     "name": "stdout",
     "output_type": "stream",
     "text": [
      "man     serge       181     44\n",
      "woman   claire      174     31\n",
      "woman   jeanne      172     56\n",
      "man     baptiste    178     39\n"
     ]
    }
   ],
   "source": [
    "awk '$2 ~ /e$/ && $3>170' people.dat"
   ]
  },
  {
   "cell_type": "markdown",
   "metadata": {},
   "source": [
    "2. dont le prénom se termine par la lettre *e*, dont la taille est supérieure à 1,70 m et dont l'âge est inférieur à 40 ans."
   ]
  },
  {
   "cell_type": "code",
   "execution_count": 13,
   "metadata": {},
   "outputs": [
    {
     "name": "stdout",
     "output_type": "stream",
     "text": [
      "woman   claire      174     31\n",
      "man     baptiste    178     39\n"
     ]
    }
   ],
   "source": [
    "awk '$2 ~ /e$/ && $3>170 && $4<40' people.dat"
   ]
  },
  {
   "cell_type": "markdown",
   "metadata": {},
   "source": [
    "3. qui ont entre 40 et 50 ans (inclus)."
   ]
  },
  {
   "cell_type": "code",
   "execution_count": 14,
   "metadata": {},
   "outputs": [
    {
     "name": "stdout",
     "output_type": "stream",
     "text": [
      "woman   clara       167     45\n",
      "man     serge       181     44\n",
      "woman   mathilde    168     46\n"
     ]
    }
   ],
   "source": [
    "awk '$4 >= 40 && $4 <= 50' people.dat"
   ]
  },
  {
   "cell_type": "code",
   "execution_count": null,
   "metadata": {},
   "outputs": [],
   "source": []
  }
 ],
 "metadata": {
  "kernelspec": {
   "display_name": "Bash",
   "language": "bash",
   "name": "bash"
  },
  "language_info": {
   "codemirror_mode": "shell",
   "file_extension": ".sh",
   "mimetype": "text/x-sh",
   "name": "bash"
  }
 },
 "nbformat": 4,
 "nbformat_minor": 4
}
