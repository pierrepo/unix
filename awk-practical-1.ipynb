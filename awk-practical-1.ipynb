{
 "cells": [
  {
   "cell_type": "markdown",
   "metadata": {},
   "source": [
    "# Awk - exercice 1 \n",
    "\n",
    "L'objectif de cet exercice est d'approfondir vos compétences d'Unix, mais aussi de vous faire découvrir `awk`.\n",
    "\n",
    "## Préparation des données\n",
    "\n",
    "Supprimez tout d'abord un éventuel fichier résiduel :"
   ]
  },
  {
   "cell_type": "code",
   "execution_count": null,
   "metadata": {},
   "outputs": [],
   "source": [
    "rm -f people.dat"
   ]
  },
  {
   "cell_type": "markdown",
   "metadata": {},
   "source": [
    "Téléchargez le fichier `people.dat` avec la commande :"
   ]
  },
  {
   "cell_type": "code",
   "execution_count": null,
   "metadata": {},
   "outputs": [],
   "source": [
    "wget https://raw.githubusercontent.com/pierrepo/unix/master/people.dat"
   ]
  },
  {
   "cell_type": "markdown",
   "metadata": {},
   "source": [
    "*Remarque.* Si la commande `wget` n'est pas disponible sur votre machine, essayez d'utiliser la commande `curl` :\n",
    "```\n",
    "curl https://raw.githubusercontent.com/pierrepo/unix/master/people.dat -o people.dat\n",
    "```"
   ]
  },
  {
   "cell_type": "markdown",
   "metadata": {},
   "source": [
    "## Analyses\n",
    "\n",
    "\n",
    "### Nombre de femmes\n",
    "\n",
    "Déterminez combien de femmes sont présentes dans le jeu de données de plusieurs façons.\n",
    "\n",
    "1. En utilisant `grep` et `wc`."
   ]
  },
  {
   "cell_type": "code",
   "execution_count": null,
   "metadata": {},
   "outputs": [],
   "source": []
  },
  {
   "cell_type": "markdown",
   "metadata": {},
   "source": [
    "2. En utilisant `grep` avec une option particulière. Pour trouver la bonne option, allez voir dans l'aide de `grep` (`grep --help`) et recherchez le mot clef *count*."
   ]
  },
  {
   "cell_type": "code",
   "execution_count": null,
   "metadata": {},
   "outputs": [],
   "source": []
  },
  {
   "cell_type": "markdown",
   "metadata": {},
   "source": [
    "3. En utilisant `awk` et `wc`."
   ]
  },
  {
   "cell_type": "code",
   "execution_count": null,
   "metadata": {},
   "outputs": [],
   "source": []
  },
  {
   "cell_type": "markdown",
   "metadata": {},
   "source": [
    "### Mémo sur les expressions régulières\n",
    "\n",
    "Voici quelques métacaractères utiles pour la suite :\n",
    "- `^` : début d'une colonne (ou d'une ligne)\n",
    "- `$` : fin d'une colonne (ou d'une ligne)\n",
    "- `.` : n'importe quel caractère (1 seule fois)\n",
    "- `*` : entre 0 et plusieurs fois le caractère (ou métacaractère) précédent.\n",
    "    Par exemple :\n",
    "    + `a*` désigne rien ou `a` ou `aa`...\n",
    "    + `.*` désigne rien ou `ab` ou `1213DZDSDD` (n'importe quel caractère 0 ou plusieurs fois)\n",
    "\n",
    "### Nombre d'hommes\n",
    "\n",
    "Affichez tous les hommes présents dans le jeu de données de plusieurs manières.\n",
    "\n",
    "1. En utilisant `grep`."
   ]
  },
  {
   "cell_type": "code",
   "execution_count": null,
   "metadata": {},
   "outputs": [],
   "source": []
  },
  {
   "cell_type": "markdown",
   "metadata": {},
   "source": [
    "2. En utilisant `awk` et en filtrant sur la ligne entière."
   ]
  },
  {
   "cell_type": "code",
   "execution_count": null,
   "metadata": {},
   "outputs": [],
   "source": []
  },
  {
   "cell_type": "markdown",
   "metadata": {},
   "source": [
    "3. En utilisant `awk` et en filtrant sur la première colonne uniquement."
   ]
  },
  {
   "cell_type": "code",
   "execution_count": null,
   "metadata": {},
   "outputs": [],
   "source": []
  },
  {
   "cell_type": "markdown",
   "metadata": {},
   "source": [
    "### Sélection sur les prénoms\n",
    "\n",
    "Désormais, vous n'utiliserez que `awk`.\n",
    "\n",
    "Affichez toutes les femmes :\n",
    "\n",
    "1. Dont le prénom se termine par la lettre *e*."
   ]
  },
  {
   "cell_type": "code",
   "execution_count": null,
   "metadata": {},
   "outputs": [],
   "source": []
  },
  {
   "cell_type": "markdown",
   "metadata": {},
   "source": [
    "2. Dont le prénom se termine par la lettre *e* et débute par la lettre *m*."
   ]
  },
  {
   "cell_type": "code",
   "execution_count": null,
   "metadata": {},
   "outputs": [],
   "source": []
  },
  {
   "cell_type": "markdown",
   "metadata": {},
   "source": [
    "3. Dont la 3e lettre du prénom est *l*."
   ]
  },
  {
   "cell_type": "code",
   "execution_count": null,
   "metadata": {},
   "outputs": [],
   "source": []
  },
  {
   "cell_type": "markdown",
   "metadata": {},
   "source": [
    "### Sélection sur plusieurs colonnes\n",
    "\n",
    "Affichez toutes les personnes\n",
    "1. dont le prénom se termine par la lettre *e* et dont la taille est supérieure à 1,70 m."
   ]
  },
  {
   "cell_type": "code",
   "execution_count": null,
   "metadata": {},
   "outputs": [],
   "source": []
  },
  {
   "cell_type": "markdown",
   "metadata": {},
   "source": [
    "2. dont le prénom se termine par la lettre *e*, dont la taille est supérieure à 1,70 m et dont l'âge est inférieur à 40 ans."
   ]
  },
  {
   "cell_type": "code",
   "execution_count": null,
   "metadata": {},
   "outputs": [],
   "source": []
  },
  {
   "cell_type": "markdown",
   "metadata": {},
   "source": [
    "3. qui ont entre 40 et 50 ans (inclus)."
   ]
  },
  {
   "cell_type": "code",
   "execution_count": null,
   "metadata": {},
   "outputs": [],
   "source": []
  },
  {
   "cell_type": "code",
   "execution_count": null,
   "metadata": {},
   "outputs": [],
   "source": []
  }
 ],
 "metadata": {
  "kernelspec": {
   "display_name": "Bash",
   "language": "bash",
   "name": "bash"
  },
  "language_info": {
   "codemirror_mode": "shell",
   "file_extension": ".sh",
   "mimetype": "text/x-sh",
   "name": "bash"
  }
 },
 "nbformat": 4,
 "nbformat_minor": 4
}
