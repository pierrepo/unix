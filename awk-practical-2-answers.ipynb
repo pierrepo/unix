{
 "cells": [
  {
   "cell_type": "markdown",
   "metadata": {},
   "source": [
    "# Awk - exercice 2 - éléments de correction\n",
    "\n",
    "L'objectif de cet exercice est de vous faire analyser les données d'un fichier tabulé avec `awk`.\n",
    "\n",
    "## Préparation des données\n",
    "\n",
    "Supprimez tout d'abord les éventuels fichiers résiduels :"
   ]
  },
  {
   "cell_type": "code",
   "execution_count": 1,
   "metadata": {},
   "outputs": [],
   "source": [
    "rm -f mng2015.csv mng2015_children_malaria_codebook.txt"
   ]
  },
  {
   "cell_type": "markdown",
   "metadata": {},
   "source": [
    "Téléchargez le fichier `mng2015.csv` :"
   ]
  },
  {
   "cell_type": "code",
   "execution_count": 2,
   "metadata": {},
   "outputs": [
    {
     "name": "stdout",
     "output_type": "stream",
     "text": [
      "--2020-09-17 22:15:35--  https://zenodo.org/record/154453/files/mng2015_children_malaria_data.csv\n",
      "Résolution de zenodo.org (zenodo.org)… 188.184.117.155\n",
      "Connexion à zenodo.org (zenodo.org)|188.184.117.155|:443… connecté.\n",
      "requête HTTP transmise, en attente de la réponse… 200 OK\n",
      "Taille : 19283 (19K) [text/plain]\n",
      "Enregistre : «mng2015.csv»\n",
      "\n",
      "mng2015.csv         100%[===================>]  18,83K  --.-KB/s    ds 0,03s   \n",
      "\n",
      "2020-09-17 22:15:36 (634 KB/s) - «mng2015.csv» enregistré [19283/19283]\n",
      "\n"
     ]
    }
   ],
   "source": [
    "wget https://zenodo.org/record/154453/files/mng2015_children_malaria_data.csv -O mng2015.csv"
   ]
  },
  {
   "cell_type": "markdown",
   "metadata": {},
   "source": [
    "Téléchargez également le *codebook* associé :"
   ]
  },
  {
   "cell_type": "code",
   "execution_count": 3,
   "metadata": {},
   "outputs": [
    {
     "name": "stdout",
     "output_type": "stream",
     "text": [
      "--2020-09-17 22:15:36--  https://zenodo.org/record/154453/files/mng2015_children_malaria_codebook.txt\n",
      "Résolution de zenodo.org (zenodo.org)… 188.184.117.155\n",
      "Connexion à zenodo.org (zenodo.org)|188.184.117.155|:443… connecté.\n",
      "requête HTTP transmise, en attente de la réponse… 200 OK\n",
      "Taille : 1953 (1,9K) [text/plain]\n",
      "Enregistre : «mng2015_children_malaria_codebook.txt»\n",
      "\n",
      "mng2015_children_ma 100%[===================>]   1,91K  --.-KB/s    ds 0s      \n",
      "\n",
      "2020-09-17 22:15:36 (810 MB/s) - «mng2015_children_malaria_codebook.txt» enregistré [1953/1953]\n",
      "\n"
     ]
    }
   ],
   "source": [
    "wget https://zenodo.org/record/154453/files/mng2015_children_malaria_codebook.txt"
   ]
  },
  {
   "cell_type": "markdown",
   "metadata": {},
   "source": [
    "\n",
    "## Analyses\n",
    "\n",
    "Ce [jeu de données](https://zenodo.org/record/154453/) a été généré dans le cadre de l'étude :\n",
    "\n",
    "*Plasmodium falciparum infection in febrile Congolese children: prevalence of clinical malaria 10 years after introduction of artemisinin‐combination therapies*,  \n",
    "publié dans *Tropical Medicine & International Health*, 2016, DOI [10.1111/tmi.1278](https://doi.org/10.1111/tmi.12786). Une version PDF de l'article est consultable [ici](http://cupnet.net/docs/Etoka-Beka_2016_TMIH.pdf).\n",
    "\n",
    "Cette étude portaient sur la prévalence du paludisme chez des enfants de 1 à 10 ans, à l’hôpital de Brazzaville, en République du Congo.\n",
    "\n",
    "\n",
    "### Format du jeu de données\n",
    "\n",
    "Ce jeu  de données à deux particularités :\n",
    "\n",
    "1. La première ligne contient l'entête, c'est-à-dire le nom des colonnes. Les données se trouvent donc au delà de la première ligne. Il faut dire à `awk` d'ignorer cette première ligne (avec la variable `NR`).\n",
    "2. Le jeu de données est au format *comma-separated values* (`.csv`), ce qui signifie que les différentes colonnes sont séparées par des virgules. Il faut expressément dire à `awk` que le séparateur de colonne est une virgule (avec l'option `-F`).\n",
    "\n",
    "### Codebook\n",
    "\n",
    "Pour comprendre ce jeu de données, prenez connaissance du *codebook*. Le *codebook* explique la signification de chaque colonne du jeu de données.\n",
    "\n",
    "Affichez les 15 premières lignes du *codebook* avec la commande `head` :"
   ]
  },
  {
   "cell_type": "code",
   "execution_count": 4,
   "metadata": {},
   "outputs": [
    {
     "name": "stdout",
     "output_type": "stream",
     "text": [
      "patient_id\n",
      "    - patient id\n",
      "    - format: MNGXXX with XXX a sequential number\n",
      "    - values: MNG001, MNG270 ...\n",
      "\n",
      "sampling_date\n",
      "    - date of blood sampling\n",
      "    - format: YYYY/MM/DD\n",
      "    - values: 2015/02/04, 2014/12/10 ...\n",
      "\n",
      "age\n",
      "    - age of patient (in years)\n",
      "    - format: integer\n",
      "    - values: 4, 10 ...\n",
      "\n"
     ]
    }
   ],
   "source": [
    "head -n 15 mng2015_children_malaria_codebook.txt"
   ]
  },
  {
   "cell_type": "markdown",
   "metadata": {},
   "source": [
    "### Méthode de lecture avec `awk`\n",
    "\n",
    "Pour que le jeu de données soit lu correctement, les commandes avec `awk` débuteront de la sorte :\n",
    "```\n",
    "$ awk -F \",\" 'NR>1 ...\n",
    "```\n",
    "Pour rappel, `-F \",\"` indique à `awk` que les colonnes sont séparées par une virgule et `NR>1` saute la première ligne (qui contient les noms des colonnes).\n",
    "\n",
    "### Sexe des patients\n",
    "\n",
    "En utilisant les outils `awk` et `wc`, déterminez :\n",
    "\n",
    "1. Le nombre de patients de sexe masculin."
   ]
  },
  {
   "cell_type": "code",
   "execution_count": 5,
   "metadata": {},
   "outputs": [
    {
     "name": "stdout",
     "output_type": "stream",
     "text": [
      "124\n"
     ]
    }
   ],
   "source": [
    "awk -F \",\" 'NR>1 && $4 ~ /^male/' mng2015.csv | wc -l"
   ]
  },
  {
   "cell_type": "markdown",
   "metadata": {},
   "source": [
    "2. Le nombre de patients de sexe féminin."
   ]
  },
  {
   "cell_type": "code",
   "execution_count": 6,
   "metadata": {},
   "outputs": [
    {
     "name": "stdout",
     "output_type": "stream",
     "text": [
      "105\n"
     ]
    }
   ],
   "source": [
    "awk -F \",\" 'NR>1 && $4 ~ /^female/' mng2015.csv | wc -l"
   ]
  },
  {
   "cell_type": "markdown",
   "metadata": {},
   "source": [
    "3. Vérifiez que ces valeurs concordent avec le nombre total de patients."
   ]
  },
  {
   "cell_type": "code",
   "execution_count": 7,
   "metadata": {},
   "outputs": [
    {
     "name": "stdout",
     "output_type": "stream",
     "text": [
      "229\n"
     ]
    }
   ],
   "source": [
    "awk -F \",\" 'NR>1' mng2015.csv | wc -l"
   ]
  },
  {
   "cell_type": "markdown",
   "metadata": {},
   "source": [
    "4. Pourquoi la commande `wc -l mng2015.csv` ne donne pas le nombre total de patients ?"
   ]
  },
  {
   "cell_type": "markdown",
   "metadata": {},
   "source": [
    "`wc` seul ne donne pas le bon résultat car la première ligne (la ligne avec l'entête des colonnes) est aussi prise en compte."
   ]
  },
  {
   "cell_type": "markdown",
   "metadata": {},
   "source": [
    "### Âge moyen\n",
    "\n",
    "En utilisant `awk` uniquement, déterminez :\n",
    "\n",
    "1. L'âge moyen de tous les patients."
   ]
  },
  {
   "cell_type": "code",
   "execution_count": 8,
   "metadata": {},
   "outputs": [
    {
     "name": "stdout",
     "output_type": "stream",
     "text": [
      "mean age: 3.0917\n"
     ]
    }
   ],
   "source": [
    "awk -F \",\" 'NR>1  {age+=$3; count++} END {print \"mean age:\", age/count}' mng2015.csv"
   ]
  },
  {
   "cell_type": "markdown",
   "metadata": {},
   "source": [
    "Suivant votre système d'exploitation, vous pouvez obtenir `3,0917`. Aucune importance pour le moment mais gardez cela en tête pour la suite."
   ]
  },
  {
   "cell_type": "markdown",
   "metadata": {},
   "source": [
    "2. L'âge moyen des patients ayant un profil hémoglobinique normal (colonne *hb_profile* avec le profile *normal hemoglobin*). Attention, utilisez le *codebook* pour savoir comment est représentée l'information *hb_profile*.\n",
    "\n",
    "Il faut aller chercher dans le champ *hb_profile* (7e champ) qui contient le profil hémoglobinique des patients. Les patients avec profil hémoglobinique normal sont notés *AA*. Les patients avec un profil hémoglobinique drépanocytaire sont notés *AS*."
   ]
  },
  {
   "cell_type": "code",
   "execution_count": 9,
   "metadata": {},
   "outputs": [
    {
     "name": "stdout",
     "output_type": "stream",
     "text": [
      "mean age: 3.12563\n"
     ]
    }
   ],
   "source": [
    "awk -F \",\" 'NR>1 && $7~/AA/ {age+=$3; count++} END {print \"mean age:\", age/count}' mng2015.csv"
   ]
  },
  {
   "cell_type": "markdown",
   "metadata": {},
   "source": [
    "Suivant votre système d'exploitation, vous pouvez obtenir `3,12563`."
   ]
  },
  {
   "cell_type": "markdown",
   "metadata": {},
   "source": [
    "3. L'âge moyen des patients ayant un profil hémoglobinique drépanocytaire (colonne *hb_profile* avec le profile *sickle cell trait*)."
   ]
  },
  {
   "cell_type": "code",
   "execution_count": 10,
   "metadata": {},
   "outputs": [
    {
     "name": "stdout",
     "output_type": "stream",
     "text": [
      "mean age: 2.86667\n"
     ]
    }
   ],
   "source": [
    "awk -F \",\" 'NR>1 && $7~/AS/ {age+=$3; count++} END {print \"mean age:\", age/count}' mng2015.csv"
   ]
  },
  {
   "cell_type": "markdown",
   "metadata": {},
   "source": [
    "Suivant votre système d'exploitation, vous pouvez obtenir `2,86667`."
   ]
  },
  {
   "cell_type": "markdown",
   "metadata": {},
   "source": [
    "4. Comparez vos résultats avec ceux de l'article scientifique dont sont tirées ces données."
   ]
  },
  {
   "cell_type": "markdown",
   "metadata": {},
   "source": [
    "L'article est disponible [ici](http://cupnet.net/docs/Etoka-Beka_2016_TMIH.pdf). On obtient des valeurs en accord avec celles du tableau 1 de l'article."
   ]
  },
  {
   "cell_type": "markdown",
   "metadata": {},
   "source": [
    "### Taux d'hémoglobine moyen\n",
    "\n",
    "Le taux d'hémoglobine se trouve dans la colonne *hb_conc* (8e colonne).\n",
    "\n",
    "En utilisant `awk` uniquement, déterminez :\n",
    "\n",
    "1. Le taux d'hémoglobine (colonne *hb_conc*) moyen des patients ayant un profil hémoglobinique normal (codé par `AA`)."
   ]
  },
  {
   "cell_type": "code",
   "execution_count": 11,
   "metadata": {},
   "outputs": [
    {
     "name": "stdout",
     "output_type": "stream",
     "text": [
      "mean hb: 11.3447\n"
     ]
    }
   ],
   "source": [
    "awk -F \",\" 'NR>1 && $7~/AA/ {hb+=$8; count++} END {print \"mean hb:\", hb/count}' mng2015.csv"
   ]
  },
  {
   "cell_type": "markdown",
   "metadata": {},
   "source": [
    "Suivant votre système d'exploitation, vous pouvez obtenir :\n",
    "```\n",
    "mean hb: 10,8643\n",
    "```\n",
    "ce qui n'est pas du tout la valeur attendue.\n",
    "\n",
    "On remarque par contre que la valeur décimale `10,8643` est exprimée avec le symbole `,` comme séparateur décimale alors que c'est le symbole `.` qui est utilisé dans le jeu de données.\n",
    "\n",
    "Ce problème est récurrent sur les systèmes informatiques configurés en français. Pour corriger cela, il suffit de déclarer au préalable la variable d'environnement `LC_NUMERIC=C` avec la commande :\n",
    "```\n",
    "export LC_NUMERIC=C\n",
    "```\n",
    "Cette commande n'est à lancer qu'une seule fois, avant les analyses, ou à mettre dans votre fichier de configuration du shell (`.bashrc` ou `.profile`).\n",
    "\n",
    "Restez toujours vigilants sur ce problème de séparateur décimal (`.` ou `,`)."
   ]
  },
  {
   "cell_type": "markdown",
   "metadata": {},
   "source": [
    "2. Le taux d'hémoglobine (colonne *hb_conc*) moyen des patients drépanocytaires (codé par `AS`)."
   ]
  },
  {
   "cell_type": "code",
   "execution_count": 12,
   "metadata": {},
   "outputs": [
    {
     "name": "stdout",
     "output_type": "stream",
     "text": [
      "mean hb: 11.18\n"
     ]
    }
   ],
   "source": [
    "awk -F \",\" 'NR>1 && $7~/AS/ {hb+=$8; count++} END {print \"mean hb:\", hb/count}' mng2015.csv"
   ]
  },
  {
   "cell_type": "markdown",
   "metadata": {},
   "source": [
    "3. Comparez vos résultats avec ceux de l'article scientifique dont sont tirées ces données."
   ]
  },
  {
   "cell_type": "markdown",
   "metadata": {},
   "source": [
    "Les résultats sont bien en accords avec le tableau 1 de l'article."
   ]
  },
  {
   "cell_type": "markdown",
   "metadata": {},
   "source": [
    "### Température moyenne\n",
    "\n",
    "La température se trouve dans le champ *temp* (6e colonne).\n",
    "\n",
    "La méthode de diagnostic du paludisme se trouve dans le champ *malaria* (12e colonne). Les valeurs possibles pour ce champ sont : \n",
    "- *negative* (pas de paludisme), \n",
    "- *uncomplicated* (paludisme diagnostiqué par microcopie)\n",
    "- et *submicroscopic* (paludisme diagnostiqué par *Polymerase Chain Reaction* (PCR)).\n",
    "\n",
    "En utilisant `awk` uniquement, déterminez :\n",
    "\n",
    "1. La température (colonne *temp*) moyenne des patients ayant un paludisme diagnostiqué par microscopie (colonne *malaria* correspondante à *malaria diagnosed by microscopy*). Attention, utilisez le *codebook* pour savoir comment est représentée l'information *malaria*.\n",
    "\n",
    "On sélectionne les patients dont le champ *malaria* vaut *uncomplicated*."
   ]
  },
  {
   "cell_type": "code",
   "execution_count": 13,
   "metadata": {},
   "outputs": [
    {
     "name": "stdout",
     "output_type": "stream",
     "text": [
      "mean temp: 38.7727\n"
     ]
    }
   ],
   "source": [
    "awk -F \",\" 'NR>1 && $12~/uncomplicated/ {temp+=$6; count++} END {print \"mean temp:\", temp/count}' mng2015.csv"
   ]
  },
  {
   "cell_type": "markdown",
   "metadata": {},
   "source": [
    "2. La température (colonne *temp*) moyenne des patients ayant un paludisme diagnostiqué par *polymerase chain reaction* (colonne *malaria* correspondante à *malaria diagnosed by PCR*).\n",
    "\n",
    "On sélectionne les patients dont le champ *malaria* vaut *submicroscopic*."
   ]
  },
  {
   "cell_type": "code",
   "execution_count": 14,
   "metadata": {},
   "outputs": [
    {
     "name": "stdout",
     "output_type": "stream",
     "text": [
      "mean temp: 37.7388\n"
     ]
    }
   ],
   "source": [
    "awk -F \",\" 'NR>1 && $12~/submicroscopic/ {temp+=$6; count++} END {print \"mean temp:\", temp/count}' mng2015.csv"
   ]
  },
  {
   "cell_type": "markdown",
   "metadata": {},
   "source": [
    "3. Comparez vos résultats avec ceux de l'article scientifique dont sont tirées ces données."
   ]
  },
  {
   "cell_type": "markdown",
   "metadata": {},
   "source": [
    "Les résultats sont bien en accords avec le tableau 2 de l'article."
   ]
  }
 ],
 "metadata": {
  "kernelspec": {
   "display_name": "Bash",
   "language": "bash",
   "name": "bash"
  },
  "language_info": {
   "codemirror_mode": "shell",
   "file_extension": ".sh",
   "mimetype": "text/x-sh",
   "name": "bash"
  }
 },
 "nbformat": 4,
 "nbformat_minor": 4
}
