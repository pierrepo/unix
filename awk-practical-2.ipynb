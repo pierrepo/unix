{
 "cells": [
  {
   "cell_type": "markdown",
   "metadata": {},
   "source": [
    "# Awk - exercice 2\n",
    "\n",
    "L'objectif de cet exercice est de vous faire analyser les données d'un fichier tabulé avec `awk`.\n",
    "\n",
    "## Préparation des données\n",
    "\n",
    "Supprimez tout d'abord les éventuels fichiers résiduels :"
   ]
  },
  {
   "cell_type": "code",
   "execution_count": null,
   "metadata": {},
   "outputs": [],
   "source": [
    "rm -f mng2015.csv mng2015_children_malaria_codebook.txt"
   ]
  },
  {
   "cell_type": "markdown",
   "metadata": {},
   "source": [
    "Téléchargez le fichier `mng2015.csv` :"
   ]
  },
  {
   "cell_type": "code",
   "execution_count": null,
   "metadata": {},
   "outputs": [],
   "source": [
    "wget https://zenodo.org/record/154453/files/mng2015_children_malaria_data.csv -O mng2015.csv"
   ]
  },
  {
   "cell_type": "markdown",
   "metadata": {},
   "source": [
    "Téléchargez également le *codebook* associé :"
   ]
  },
  {
   "cell_type": "code",
   "execution_count": null,
   "metadata": {},
   "outputs": [],
   "source": [
    "wget https://zenodo.org/record/154453/files/mng2015_children_malaria_codebook.txt"
   ]
  },
  {
   "cell_type": "markdown",
   "metadata": {},
   "source": [
    "\n",
    "## Analyses\n",
    "\n",
    "Ce [jeu de données](https://zenodo.org/record/154453/) a été généré dans le cadre de l'étude :\n",
    "\n",
    "*Plasmodium falciparum infection in febrile Congolese children: prevalence of clinical malaria 10 years after introduction of artemisinin‐combination therapies*,  \n",
    "publié dans *Tropical Medicine & International Health*, 2016, DOI [10.1111/tmi.1278](https://doi.org/10.1111/tmi.12786). Une version PDF de l'article est consultable [ici](http://cupnet.net/docs/Etoka-Beka_2016_TMIH.pdf).\n",
    "\n",
    "Cette étude portaient sur la prévalence du paludisme chez des enfants de 1 à 10 ans, à l’hôpital de Brazzaville, en République du Congo.\n",
    "\n",
    "\n",
    "### Format du jeu de données\n",
    "\n",
    "Ce jeu de données à deux particularités :\n",
    "\n",
    "1. La première ligne contient l'entête, c'est-à-dire le nom des colonnes. Les données se trouvent donc au delà de la première ligne. Il faut dire à `awk` d'ignorer cette première ligne (avec la variable `NR`).\n",
    "2. Le jeu de données est au format *comma-separated values* (`.csv`), ce qui signifie que les différentes colonnes sont séparées par des virgules. Il faut expressément dire à `awk` que le séparateur de colonne est une virgule (avec l'option `-F`).\n",
    "\n",
    "### Codebook\n",
    "\n",
    "Pour comprendre ce jeu de données, prenez connaissance du *codebook*. Le *codebook* explique la signification de chaque colonne du jeu de données.\n",
    "\n",
    "Affichez les 15 premières lignes du *codebook* avec la commande `head` :"
   ]
  },
  {
   "cell_type": "code",
   "execution_count": null,
   "metadata": {},
   "outputs": [],
   "source": []
  },
  {
   "cell_type": "markdown",
   "metadata": {},
   "source": [
    "### Sexe des patients\n",
    "\n",
    "En utilisant les outils `awk` et `wc`, déterminez :\n",
    "\n",
    "1. Le nombre de patients de sexe masculin."
   ]
  },
  {
   "cell_type": "code",
   "execution_count": null,
   "metadata": {},
   "outputs": [],
   "source": []
  },
  {
   "cell_type": "markdown",
   "metadata": {},
   "source": [
    "2. Le nombre de patients de sexe féminin."
   ]
  },
  {
   "cell_type": "code",
   "execution_count": null,
   "metadata": {},
   "outputs": [],
   "source": []
  },
  {
   "cell_type": "markdown",
   "metadata": {},
   "source": [
    "3. Vérifiez que ces valeurs concordent avec le nombre total de patients."
   ]
  },
  {
   "cell_type": "code",
   "execution_count": null,
   "metadata": {},
   "outputs": [],
   "source": []
  },
  {
   "cell_type": "markdown",
   "metadata": {},
   "source": [
    "4. Pourquoi la commande `wc -l mng2015.csv` ne donne pas le nombre total de patients ?"
   ]
  },
  {
   "cell_type": "code",
   "execution_count": null,
   "metadata": {},
   "outputs": [],
   "source": []
  },
  {
   "cell_type": "markdown",
   "metadata": {},
   "source": [
    "### Âge moyen\n",
    "\n",
    "En utilisant `awk` uniquement, déterminez :\n",
    "\n",
    "1. L'âge moyen de tous les patients."
   ]
  },
  {
   "cell_type": "code",
   "execution_count": null,
   "metadata": {},
   "outputs": [],
   "source": []
  },
  {
   "cell_type": "markdown",
   "metadata": {},
   "source": [
    "2. L'âge moyen des patients ayant un profil hémoglobinique normal (colonne *hb_profile* avec le profile *normal hemoglobin*). Attention, utilisez le *codebook* pour savoir comment est représentée l'information *hb_profile*."
   ]
  },
  {
   "cell_type": "code",
   "execution_count": null,
   "metadata": {},
   "outputs": [],
   "source": []
  },
  {
   "cell_type": "markdown",
   "metadata": {},
   "source": [
    "3. L'âge moyen des patients ayant un profil hémoglobinique drépanocytaire (colonne *hb_profile* avec le profile *sickle cell trait*)."
   ]
  },
  {
   "cell_type": "code",
   "execution_count": null,
   "metadata": {},
   "outputs": [],
   "source": []
  },
  {
   "cell_type": "markdown",
   "metadata": {},
   "source": [
    "4. Comparez vos résultats avec ceux de l'article scientifique dont sont tirées ces données."
   ]
  },
  {
   "cell_type": "markdown",
   "metadata": {},
   "source": []
  },
  {
   "cell_type": "markdown",
   "metadata": {},
   "source": [
    "### Taux d'hémoglobine moyen\n",
    "\n",
    "En utilisant `awk` uniquement, déterminez :\n",
    "\n",
    "1. Le taux d'hémoglobine (colonne *hb_conc*) moyen des patients ayant un profil hémoglobinique normal (codé par `AA`)."
   ]
  },
  {
   "cell_type": "code",
   "execution_count": null,
   "metadata": {},
   "outputs": [],
   "source": []
  },
  {
   "cell_type": "markdown",
   "metadata": {},
   "source": [
    "2. Le taux d'hémoglobine (colonne *hb_conc*) moyen des patients drépanocytaires (codé par `AS`)."
   ]
  },
  {
   "cell_type": "code",
   "execution_count": null,
   "metadata": {},
   "outputs": [],
   "source": []
  },
  {
   "cell_type": "markdown",
   "metadata": {},
   "source": [
    "3. Comparez vos résultats avec ceux de l'article scientifique dont sont tirées ces données."
   ]
  },
  {
   "cell_type": "markdown",
   "metadata": {},
   "source": []
  },
  {
   "cell_type": "markdown",
   "metadata": {},
   "source": [
    "### Température moyenne\n",
    "\n",
    "En utilisant `awk` uniquement, déterminez :\n",
    "\n",
    "1. La température (colonne *temp*) moyenne des patients ayant un paludisme diagnostiqué par microscopie (colonne *malaria* correspondante à *malaria diagnosed by microscopy*). Attention, utilisez le *codebook* pour savoir comment est représentée l'information *malaria*."
   ]
  },
  {
   "cell_type": "code",
   "execution_count": null,
   "metadata": {},
   "outputs": [],
   "source": []
  },
  {
   "cell_type": "markdown",
   "metadata": {},
   "source": [
    "2. La température (colonne *temp*) moyenne des patients ayant un paludisme diagnostiqué par *polymerase chain reaction* (colonne *malaria* correspondante à *malaria diagnosed by PCR*)."
   ]
  },
  {
   "cell_type": "code",
   "execution_count": null,
   "metadata": {},
   "outputs": [],
   "source": []
  },
  {
   "cell_type": "markdown",
   "metadata": {},
   "source": [
    "3. Comparez vos résultats avec ceux de l'article scientifique dont sont tirées ces données."
   ]
  },
  {
   "cell_type": "markdown",
   "metadata": {},
   "source": []
  }
 ],
 "metadata": {
  "kernelspec": {
   "display_name": "Bash",
   "language": "bash",
   "name": "bash"
  },
  "language_info": {
   "codemirror_mode": "shell",
   "file_extension": ".sh",
   "mimetype": "text/x-sh",
   "name": "bash"
  }
 },
 "nbformat": 4,
 "nbformat_minor": 4
}
