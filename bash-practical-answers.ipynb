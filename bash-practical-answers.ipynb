{
 "cells": [
  {
   "cell_type": "markdown",
   "metadata": {},
   "source": [
    "# Programmation Bash - exercices - éléments de correction\n",
    "\n",
    "Les réponses proposées ci-dessous ne sont que des éléments de correction. D'autres solutions alternatives sont parfaitement possibles.\n",
    "\n",
    "Téléchargez le fichier `genomes.tgz` avec la commande :"
   ]
  },
  {
   "cell_type": "code",
   "execution_count": 1,
   "metadata": {},
   "outputs": [
    {
     "name": "stdout",
     "output_type": "stream",
     "text": [
      "--2020-09-23 22:07:28--  https://raw.githubusercontent.com/pierrepo/unix/master/genomes.tgz\n",
      "Résolution de raw.githubusercontent.com (raw.githubusercontent.com)… 151.101.120.133\n",
      "Connexion à raw.githubusercontent.com (raw.githubusercontent.com)|151.101.120.133|:443… connecté.\n",
      "requête HTTP transmise, en attente de la réponse… 404 Not Found\n",
      "2020-09-23 22:07:28 erreur 404 : Not Found.\n",
      "\n"
     ]
    },
    {
     "ename": "",
     "evalue": "8",
     "output_type": "error",
     "traceback": []
    }
   ],
   "source": [
    "wget https://raw.githubusercontent.com/pierrepo/unix/master/genomes.tgz"
   ]
  },
  {
   "cell_type": "markdown",
   "metadata": {},
   "source": [
    "*Remarque.* Si la commande `wget` n'est pas disponible, essayez d'utiliser la commande `curl` :\n",
    "```\n",
    "curl https://raw.githubusercontent.com/pierrepo/unix/master/genomes.tgz -o genomes.tgz\n",
    "```"
   ]
  },
  {
   "cell_type": "markdown",
   "metadata": {},
   "source": [
    "Ce fichier contient les fichiers GenBank tronqués de quelques organismes (les dix premières lignes seulement).\n",
    "\n",
    "## Découverte du jeu de données\n",
    "\n",
    "1. Décompressez l'archive `genomes.tgz` que vous avez téléchargée."
   ]
  },
  {
   "cell_type": "markdown",
   "metadata": {},
   "source": [
    "La commande pour décompressez l'archive `genomes.tgz` est :"
   ]
  },
  {
   "cell_type": "code",
   "execution_count": 2,
   "metadata": {},
   "outputs": [],
   "source": [
    "tar zxf genomes.tgz"
   ]
  },
  {
   "cell_type": "markdown",
   "metadata": {},
   "source": [
    "Un répertoire `genomes` est alors créé :"
   ]
  },
  {
   "cell_type": "code",
   "execution_count": 8,
   "metadata": {},
   "outputs": [
    {
     "name": "stdout",
     "output_type": "stream",
     "text": [
      "drwxr-xr-x 2 pierre pierre 4,0K juil. 26  2010 \u001b[01;31m\u001b[Kgen\u001b[m\u001b[Komes/\n",
      "-rw-rw-r-- 1 pierre pierre  63K sept. 23 22:03 \u001b[01;31m\u001b[Kgen\u001b[m\u001b[Komes.tgz\n"
     ]
    }
   ],
   "source": [
    "ls -lh | grep gen"
   ]
  },
  {
   "cell_type": "markdown",
   "metadata": {},
   "source": [
    "2. Combien de fichiers contient le répertoire `genomes` qui a été créé ? Utilisez, bien sur, une (ou plusieurs) commande(s) Unix pour répondre. :sunglasses:"
   ]
  },
  {
   "cell_type": "markdown",
   "metadata": {},
   "source": [
    "Pour déterminer le nombre de fichiers dans le répertoire `genomes`, on peut utiliser la commande `ls -l` qui affiche un fichier par ligne puis compter le nombre de lignes :"
   ]
  },
  {
   "cell_type": "code",
   "execution_count": 9,
   "metadata": {},
   "outputs": [
    {
     "name": "stdout",
     "output_type": "stream",
     "text": [
      "48\n"
     ]
    }
   ],
   "source": [
    "ls -l genomes/ | wc -l"
   ]
  },
  {
   "cell_type": "markdown",
   "metadata": {},
   "source": [
    "Mais il faut faire attention car la commande `ls -l` affiche effectivement un fichier par ligne mais aussi la taille total des fichiers (ici `total 376`) au début :"
   ]
  },
  {
   "cell_type": "code",
   "execution_count": 11,
   "metadata": {},
   "outputs": [
    {
     "name": "stdout",
     "output_type": "stream",
     "text": [
      "total 376\n",
      "-rw-r--r-- 1 pierre pierre 5111 juil. 26  2010 NC_000907_head.gbk\n",
      "-rw-r--r-- 1 pierre pierre 5766 juil. 26  2010 NC_000964_head.gbk\n",
      "-rw-r--r-- 1 pierre pierre 5035 juil. 26  2010 NC_001869_head.gbk\n",
      "-rw-r--r-- 1 pierre pierre 5174 juil. 26  2010 NC_002505_head.gbk\n",
      "-rw-r--r-- 1 pierre pierre 4776 juil. 26  2010 NC_002570_head.gbk\n",
      "-rw-r--r-- 1 pierre pierre 5119 juil. 26  2010 NC_002678_head.gbk\n",
      "-rw-r--r-- 1 pierre pierre 5347 juil. 26  2010 NC_002935_head.gbk\n",
      "-rw-r--r-- 1 pierre pierre 5550 juil. 26  2010 NC_002939_head.gbk\n",
      "-rw-r--r-- 1 pierre pierre 4974 juil. 26  2010 NC_002976_head.gbk\n",
      "-rw-r--r-- 1 pierre pierre 5164 juil. 26  2010 NC_003317_head.gbk\n",
      "-rw-r--r-- 1 pierre pierre 5065 juil. 26  2010 NC_004307_head.gbk\n",
      "-rw-r--r-- 1 pierre pierre 5305 juil. 26  2010 NC_004459_head.gbk\n",
      "-rw-r--r-- 1 pierre pierre 5227 juil. 26  2010 NC_004461_head.gbk\n",
      "-rw-r--r-- 1 pierre pierre 5309 juil. 26  2010 NC_004567_head.gbk\n",
      "-rw-r--r-- 1 pierre pierre 5383 juil. 26  2010 NC_004917_head.gbk\n",
      "-rw-r--r-- 1 pierre pierre 6081 juil. 26  2010 NC_005085_head.gbk\n",
      "-rw-r--r-- 1 pierre pierre 5141 juil. 26  2010 NC_005125_head.gbk\n",
      "-rw-r--r-- 1 pierre pierre 5320 juil. 26  2010 NC_006298_head.gbk\n",
      "-rw-r--r-- 1 pierre pierre 5478 juil. 26  2010 NC_006348_head.gbk\n",
      "-rw-r--r-- 1 pierre pierre 5171 juil. 26  2010 NC_006512_head.gbk\n",
      "-rw-r--r-- 1 pierre pierre 5074 juil. 26  2010 NC_006840_head.gbk\n",
      "-rw-r--r-- 1 pierre pierre 5334 juil. 26  2010 NC_007168_head.gbk\n",
      "-rw-r--r-- 1 pierre pierre 5487 juil. 26  2010 NC_007350_head.gbk\n",
      "-rw-r--r-- 1 pierre pierre 5184 juil. 26  2010 NC_007515_head.gbk\n",
      "-rw-r--r-- 1 pierre pierre 5275 juil. 26  2010 NC_007645_head.gbk\n",
      "-rw-r--r-- 1 pierre pierre 5370 juil. 26  2010 NC_007650_head.gbk\n",
      "-rw-r--r-- 1 pierre pierre 5549 juil. 26  2010 NC_007801_head.gbk\n",
      "-rw-r--r-- 1 pierre pierre 5470 juil. 26  2010 NC_008054_head.gbk\n",
      "-rw-r--r-- 1 pierre pierre 5539 juil. 26  2010 NC_008542_head.gbk\n",
      "-rw-r--r-- 1 pierre pierre 5585 juil. 26  2010 NC_008783_head.gbk\n",
      "-rw-r--r-- 1 pierre pierre 5423 juil. 26  2010 NC_009033_head.gbk\n",
      "-rw-r--r-- 1 pierre pierre 5344 juil. 26  2010 NC_009477_head.gbk\n",
      "-rw-r--r-- 1 pierre pierre 5190 juil. 26  2010 NC_009495_head.gbk\n",
      "-rw-r--r-- 1 pierre pierre 5283 juil. 26  2010 NC_009504_head.gbk\n",
      "-rw-r--r-- 1 pierre pierre 5475 juil. 26  2010 NC_009943_head.gbk\n",
      "-rw-r--r-- 1 pierre pierre 5344 juil. 26  2010 NC_010617_head.gbk\n",
      "-rw-r--r-- 1 pierre pierre 5447 juil. 26  2010 NC_011184_head.gbk\n",
      "-rw-r--r-- 1 pierre pierre 5204 juil. 26  2010 NC_011333_head.gbk\n",
      "-rw-r--r-- 1 pierre pierre 4914 juil. 26  2010 NC_011654_head.gbk\n",
      "-rw-r--r-- 1 pierre pierre 5368 juil. 26  2010 NC_011852_head.gbk\n",
      "-rw-r--r-- 1 pierre pierre 5142 juil. 26  2010 NC_011979_head.gbk\n",
      "-rw-r--r-- 1 pierre pierre 5104 juil. 26  2010 NC_012655_head.gbk\n",
      "-rw-r--r-- 1 pierre pierre 5272 juil. 26  2010 NC_012686_head.gbk\n",
      "-rw-r--r-- 1 pierre pierre 5504 juil. 26  2010 NC_012880_head.gbk\n",
      "-rw-r--r-- 1 pierre pierre 5089 juil. 26  2010 NC_013123_head.gbk\n",
      "-rw-r--r-- 1 pierre pierre 4745 juil. 26  2010 NC_013893_head.gbk\n",
      "-rw-r--r-- 1 pierre pierre 5410 juil. 26  2010 NC_014205_head.gbk\n"
     ]
    }
   ],
   "source": [
    "ls -l genomes/"
   ]
  },
  {
   "cell_type": "markdown",
   "metadata": {},
   "source": [
    "Il faut donc retirer un du résultat précédent. Il y a donc **47 fichiers** dans le répertoire `genomes`.\n",
    "\n",
    "Pour afficher exactement un fichier par ligne, sans ligne supplémentaire, on peut utiliser l'option `-1` (le chiffre 1) de la commande `ls` :"
   ]
  },
  {
   "cell_type": "code",
   "execution_count": 12,
   "metadata": {},
   "outputs": [
    {
     "name": "stdout",
     "output_type": "stream",
     "text": [
      "NC_000907_head.gbk\n",
      "NC_000964_head.gbk\n",
      "NC_001869_head.gbk\n",
      "NC_002505_head.gbk\n",
      "NC_002570_head.gbk\n",
      "NC_002678_head.gbk\n",
      "NC_002935_head.gbk\n",
      "NC_002939_head.gbk\n",
      "NC_002976_head.gbk\n",
      "NC_003317_head.gbk\n",
      "NC_004307_head.gbk\n",
      "NC_004459_head.gbk\n",
      "NC_004461_head.gbk\n",
      "NC_004567_head.gbk\n",
      "NC_004917_head.gbk\n",
      "NC_005085_head.gbk\n",
      "NC_005125_head.gbk\n",
      "NC_006298_head.gbk\n",
      "NC_006348_head.gbk\n",
      "NC_006512_head.gbk\n",
      "NC_006840_head.gbk\n",
      "NC_007168_head.gbk\n",
      "NC_007350_head.gbk\n",
      "NC_007515_head.gbk\n",
      "NC_007645_head.gbk\n",
      "NC_007650_head.gbk\n",
      "NC_007801_head.gbk\n",
      "NC_008054_head.gbk\n",
      "NC_008542_head.gbk\n",
      "NC_008783_head.gbk\n",
      "NC_009033_head.gbk\n",
      "NC_009477_head.gbk\n",
      "NC_009495_head.gbk\n",
      "NC_009504_head.gbk\n",
      "NC_009943_head.gbk\n",
      "NC_010617_head.gbk\n",
      "NC_011184_head.gbk\n",
      "NC_011333_head.gbk\n",
      "NC_011654_head.gbk\n",
      "NC_011852_head.gbk\n",
      "NC_011979_head.gbk\n",
      "NC_012655_head.gbk\n",
      "NC_012686_head.gbk\n",
      "NC_012880_head.gbk\n",
      "NC_013123_head.gbk\n",
      "NC_013893_head.gbk\n",
      "NC_014205_head.gbk\n"
     ]
    }
   ],
   "source": [
    "ls -1 genomes/"
   ]
  },
  {
   "cell_type": "markdown",
   "metadata": {},
   "source": [
    "ce qui donne bien :"
   ]
  },
  {
   "cell_type": "code",
   "execution_count": 13,
   "metadata": {},
   "outputs": [
    {
     "name": "stdout",
     "output_type": "stream",
     "text": [
      "47\n"
     ]
    }
   ],
   "source": [
    "ls -1 genomes/ | wc -l"
   ]
  },
  {
   "cell_type": "markdown",
   "metadata": {},
   "source": [
    "\n",
    "3. Familiarisez-vous avec les fichiers GenBank contenu dans le répertoire `genomes`. Combien de lignes y-a-t-il dans chaque fichiers ?"
   ]
  },
  {
   "cell_type": "markdown",
   "metadata": {},
   "source": [
    "Nombre de lignes pour chaque fichier :"
   ]
  },
  {
   "cell_type": "code",
   "execution_count": 15,
   "metadata": {},
   "outputs": [
    {
     "name": "stdout",
     "output_type": "stream",
     "text": [
      "   100 genomes/NC_000907_head.gbk\n",
      "   100 genomes/NC_000964_head.gbk\n",
      "   100 genomes/NC_001869_head.gbk\n",
      "   100 genomes/NC_002505_head.gbk\n",
      "   100 genomes/NC_002570_head.gbk\n",
      "   100 genomes/NC_002678_head.gbk\n",
      "   100 genomes/NC_002935_head.gbk\n",
      "   100 genomes/NC_002939_head.gbk\n",
      "   100 genomes/NC_002976_head.gbk\n",
      "   100 genomes/NC_003317_head.gbk\n",
      "   100 genomes/NC_004307_head.gbk\n",
      "   100 genomes/NC_004459_head.gbk\n",
      "   100 genomes/NC_004461_head.gbk\n",
      "   100 genomes/NC_004567_head.gbk\n",
      "   100 genomes/NC_004917_head.gbk\n",
      "   100 genomes/NC_005085_head.gbk\n",
      "   100 genomes/NC_005125_head.gbk\n",
      "   100 genomes/NC_006298_head.gbk\n",
      "   100 genomes/NC_006348_head.gbk\n",
      "   100 genomes/NC_006512_head.gbk\n",
      "   100 genomes/NC_006840_head.gbk\n",
      "   100 genomes/NC_007168_head.gbk\n",
      "   100 genomes/NC_007350_head.gbk\n",
      "   100 genomes/NC_007515_head.gbk\n",
      "   100 genomes/NC_007645_head.gbk\n",
      "   100 genomes/NC_007650_head.gbk\n",
      "   100 genomes/NC_007801_head.gbk\n",
      "   100 genomes/NC_008054_head.gbk\n",
      "   100 genomes/NC_008542_head.gbk\n",
      "   100 genomes/NC_008783_head.gbk\n",
      "   100 genomes/NC_009033_head.gbk\n",
      "   100 genomes/NC_009477_head.gbk\n",
      "   100 genomes/NC_009495_head.gbk\n",
      "   100 genomes/NC_009504_head.gbk\n",
      "   100 genomes/NC_009943_head.gbk\n",
      "   100 genomes/NC_010617_head.gbk\n",
      "   100 genomes/NC_011184_head.gbk\n",
      "   100 genomes/NC_011333_head.gbk\n",
      "   100 genomes/NC_011654_head.gbk\n",
      "   100 genomes/NC_011852_head.gbk\n",
      "   100 genomes/NC_011979_head.gbk\n",
      "   100 genomes/NC_012655_head.gbk\n",
      "   100 genomes/NC_012686_head.gbk\n",
      "   100 genomes/NC_012880_head.gbk\n",
      "   100 genomes/NC_013123_head.gbk\n",
      "   100 genomes/NC_013893_head.gbk\n",
      "   100 genomes/NC_014205_head.gbk\n",
      "  4700 total\n"
     ]
    }
   ],
   "source": [
    "wc -l genomes/*"
   ]
  },
  {
   "cell_type": "markdown",
   "metadata": {},
   "source": [
    "Il y a 100 lignes par fichier."
   ]
  },
  {
   "cell_type": "markdown",
   "metadata": {},
   "source": [
    "4. Quelle ligne des fichiers GenBank permet de savoir si l'organisme concerné est un staphylocoque ? Par exemple, le fichier *NC_002976_head.gbk* est un fichier d'un staphylocoque alors que *NC_002505_head.gbk* non.\n"
   ]
  },
  {
   "cell_type": "markdown",
   "metadata": {},
   "source": [
    "En observant les différents fichiers GenBank, on se rend compte que le nom d'organisme des staphylocoques est de la forme :\n",
    "```\n",
    "  ORGANISM  Staphylococcus epidermidis RP62A\n",
    "```\n",
    "C'est en particulier le mot `Staphylococcus` qui est discriminant ici.\n",
    "\n",
    "En réalité d'autres lignes pourraient servir à identifier les staphylocoques, comme :\n",
    "```\n",
    "DEFINITION  Staphylococcus epidermidis RP62A, complete genome.\n",
    "```\n",
    "ou\n",
    "```\n",
    "SOURCE      Staphylococcus epidermidis RP62A\n",
    "```"
   ]
  },
  {
   "cell_type": "markdown",
   "metadata": {},
   "source": [
    "## Extraction des staphylocoques\n",
    "\n",
    "Supprimez maintenant le répertoire `genomes` :"
   ]
  },
  {
   "cell_type": "markdown",
   "metadata": {},
   "source": [
    "Suppression du répertoire `genomes` :"
   ]
  },
  {
   "cell_type": "code",
   "execution_count": 17,
   "metadata": {},
   "outputs": [],
   "source": [
    "rm -rf genomes/"
   ]
  },
  {
   "cell_type": "markdown",
   "metadata": {},
   "source": [
    "**Attention** à la commande `rm -rf` qui va supprimer sans demander confirmation le répertoire fourni en argument. Sous Unix, il n'y a pas de corbeille, ni possibilité de revenir en arrière."
   ]
  },
  {
   "cell_type": "markdown",
   "metadata": {},
   "source": [
    "Écrivez le script bash `get_staphylo.sh` qui s'exécute dans le même répertoire que `genomes.tgz` et qui :\n",
    "\n",
    "1. décompresse l'archive `genomes.tgz` ;\n",
    "2. crée un répertoire `staphylo`, au même niveau que le répertoire `genomes` qui contient les fichiers GenBank ;\n",
    "3. affiche les noms des fichiers GenBank de staphylocoques ;\n",
    "4. copie ces fichiers dans le répertoire `staphylo` ;\n",
    "5. archive et compresse le répertoire `staphylo` sous le nom `staphylo.tgz` ;\n",
    "6. supprime les répertoires `genomes` et `staphylo`."
   ]
  },
  {
   "cell_type": "markdown",
   "metadata": {},
   "source": [
    "Le script `get_staphylo.sh` devrait ressembler au script ci-dessous :\n",
    "\n",
    "```\n",
    "#! /usr/bin/env bash\n",
    "\n",
    "# Pierre Poulain 2018\n",
    "\n",
    "# define directories with data\n",
    "dir_input=\"genomes\"\n",
    "dir_output=\"staphylo\"\n",
    "\n",
    "# uncompress initial file\n",
    "tar zxf genomes.tgz\n",
    "\n",
    "# create empty directory for Staphylococcus genomes\n",
    "mkdir ${dir_output}\n",
    "\n",
    "# loop on all genbank files\n",
    "for name in $(ls ${dir_input}/*.gbk)\n",
    "do\n",
    "    # get organism name\n",
    "    orga=$(awk '/ORGANISM/{print $2}' ${name})\n",
    "\n",
    "    # select Staphylococcus files only\n",
    "    if [[ ${orga} = \"Staphylococcus\" ]]\n",
    "    then\n",
    "        # print filename with Staphylococcus\n",
    "        echo \"${name} is a Staphylococcus\"\n",
    "        # copy Staphylococcus file into staphylo directory\n",
    "        cp ${name} ${dir_output}\n",
    "    fi\n",
    "done\n",
    "\n",
    "# create final archive\n",
    "tar zcf staphylo.tgz ${dir_output}/\n",
    "\n",
    "# delete data directories\n",
    "rm -rf ${dir_input} ${dir_output}\n",
    "```\n"
   ]
  }
 ],
 "metadata": {
  "kernelspec": {
   "display_name": "Bash",
   "language": "bash",
   "name": "bash"
  },
  "language_info": {
   "codemirror_mode": "shell",
   "file_extension": ".sh",
   "mimetype": "text/x-sh",
   "name": "bash"
  }
 },
 "nbformat": 4,
 "nbformat_minor": 4
}
