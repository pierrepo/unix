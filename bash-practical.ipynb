{
 "cells": [
  {
   "cell_type": "markdown",
   "metadata": {},
   "source": [
    "# Programmation Bash - exercices\n",
    "\n",
    "## Préparation des données\n",
    "\n",
    "Supprimez tout d'abord les éventuels fichiers résiduels :"
   ]
  },
  {
   "cell_type": "code",
   "execution_count": null,
   "metadata": {},
   "outputs": [],
   "source": [
    "rm -rf genomes genomes.tgz staphylo.tgz"
   ]
  },
  {
   "cell_type": "markdown",
   "metadata": {},
   "source": [
    "Téléchargez le fichier `genomes.tgz` avec la commande :"
   ]
  },
  {
   "cell_type": "code",
   "execution_count": null,
   "metadata": {},
   "outputs": [],
   "source": [
    "wget https://raw.githubusercontent.com/pierrepo/unix/master/genomes.tgz"
   ]
  },
  {
   "cell_type": "markdown",
   "metadata": {},
   "source": [
    "*Remarque.* Si la commande `wget` n'est pas disponible, essayez d'utiliser la commande `curl` :\n",
    "```\n",
    "curl https://raw.githubusercontent.com/pierrepo/unix/master/genomes.tgz -o genomes.tgz\n",
    "```"
   ]
  },
  {
   "cell_type": "markdown",
   "metadata": {},
   "source": [
    "Ce fichier contient les fichiers GenBank tronqués de quelques organismes (les dix premières lignes seulement).\n",
    "\n",
    "## Découverte du jeu de données\n",
    "\n",
    "1. Décompressez l'archive `genomes.tgz` que vous avez téléchargée."
   ]
  },
  {
   "cell_type": "code",
   "execution_count": null,
   "metadata": {},
   "outputs": [],
   "source": []
  },
  {
   "cell_type": "markdown",
   "metadata": {},
   "source": [
    "2. Combien de fichiers contient le répertoire `genomes` qui a été créé ? Utilisez, une (ou plusieurs) commande(s) Unix pour répondre. 😎"
   ]
  },
  {
   "cell_type": "code",
   "execution_count": null,
   "metadata": {},
   "outputs": [],
   "source": []
  },
  {
   "cell_type": "markdown",
   "metadata": {},
   "source": [
    "\n",
    "3. Familiarisez-vous avec les fichiers GenBank contenu dans le répertoire `genomes`. Combien de lignes y-a-t-il dans chaque fichiers ?"
   ]
  },
  {
   "cell_type": "code",
   "execution_count": null,
   "metadata": {},
   "outputs": [],
   "source": []
  },
  {
   "cell_type": "markdown",
   "metadata": {},
   "source": [
    "4. Quelle ligne des fichiers GenBank permet de savoir si l'organisme concerné est un staphylocoque ? Par exemple, le fichier *NC_002976_head.gbk* est un fichier d'un staphylocoque alors que *NC_002505_head.gbk* non.\n"
   ]
  },
  {
   "cell_type": "code",
   "execution_count": null,
   "metadata": {},
   "outputs": [],
   "source": []
  },
  {
   "cell_type": "markdown",
   "metadata": {},
   "source": [
    "## Extraction automatique des staphylocoques\n",
    "\n",
    "Supprimez maintenant le répertoire `genomes` :"
   ]
  },
  {
   "cell_type": "code",
   "execution_count": null,
   "metadata": {},
   "outputs": [],
   "source": []
  },
  {
   "cell_type": "markdown",
   "metadata": {},
   "source": [
    "Si le fichiers `genomes.tgz` n'est plus présent dans votre répertoire, pensez à le télécharger à nouveau.\n",
    "\n",
    "Écrivez le script bash `get_staphylo.sh` qui s'exécute dans le même répertoire que `genomes.tgz` et qui :\n",
    "\n",
    "1. décompresse l'archive `genomes.tgz` ;\n",
    "2. crée un répertoire `staphylo`, au même niveau que le répertoire `genomes` qui contient les fichiers GenBank ;\n",
    "3. affiche les noms des fichiers GenBank de staphylocoques ;\n",
    "4. copie ces fichiers dans le répertoire `staphylo` ;\n",
    "5. archive et compresse le répertoire `staphylo` sous le nom `staphylo.tgz` ;\n",
    "6. supprime les répertoires `genomes` et `staphylo`."
   ]
  },
  {
   "cell_type": "code",
   "execution_count": null,
   "metadata": {},
   "outputs": [],
   "source": []
  }
 ],
 "metadata": {
  "kernelspec": {
   "display_name": "Bash",
   "language": "bash",
   "name": "bash"
  },
  "language_info": {
   "codemirror_mode": "shell",
   "file_extension": ".sh",
   "mimetype": "text/x-sh",
   "name": "bash"
  }
 },
 "nbformat": 4,
 "nbformat_minor": 4
}
