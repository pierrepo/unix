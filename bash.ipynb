{
 "cells": [
  {
   "cell_type": "markdown",
   "metadata": {},
   "source": [
    "# Programmation Bash\n",
    "\n",
    "Bash est un interpréteur de ligne de commande (*shell*) utilisé sur des systèmes Unix / Linux. C'est un des *shells* les plus utilisés sous Linux.\n",
    "\n",
    "Si vous avez oublié (ou ignorez) la différence entre *shell* et terminal, jetez un oeil à cette [video](https://www.youtube.com/watch?v=U2b-MYcSCLc).\n",
    "\n",
    "Exécutez la cellule ci-dessous pour télécharger tous les fichiers dont vous aurez besoin par la suite :"
   ]
  },
  {
   "cell_type": "code",
   "execution_count": null,
   "metadata": {},
   "outputs": [],
   "source": [
    "wget https://raw.githubusercontent.com/pierrepo/unix/master/script.sh\n",
    "wget https://raw.githubusercontent.com/pierrepo/unix/master/var.sh\n",
    "wget https://raw.githubusercontent.com/pierrepo/unix/master/arg.sh\n",
    "wget https://raw.githubusercontent.com/pierrepo/unix/master/haiku.txt\n",
    "wget https://raw.githubusercontent.com/pierrepo/unix/master/exit.sh\n",
    "wget https://raw.githubusercontent.com/pierrepo/unix/master/while.sh\n",
    "wget \"https://raw.githubusercontent.com/pierrepo/unix/master/mon fichier.txt\"\n",
    "wget https://raw.githubusercontent.com/pierrepo/unix/master/people.dat"
   ]
  },
  {
   "cell_type": "markdown",
   "metadata": {},
   "source": [
    "## Variables et variables d'environnement\n",
    "\n",
    "En Bash, il est possible de définir un certain nombre d'objets, qui vont contenir de l'information et résider dans la mémoire du *shell*.\n",
    "\n",
    "\n",
    "### Variables locales\n",
    "\n",
    "Les variables locales ne sont pas transmises au processus fils.\n",
    "\n",
    "Par convention, elles sont écrites en minuscules. Par exemple :"
   ]
  },
  {
   "cell_type": "code",
   "execution_count": null,
   "metadata": {},
   "outputs": [],
   "source": [
    "a=1\n",
    "test='ma chaîne de caractères'"
   ]
  },
  {
   "cell_type": "markdown",
   "metadata": {},
   "source": [
    "Attention. Il n'y a pas d'espace avant ou après le symbole `=` !\n",
    "\n",
    "Si `var` est une variable, alors `$var` donne accès au contenu de la variable et l'instruction `echo $var` affiche le contenu de cette variable. Par exemple :"
   ]
  },
  {
   "cell_type": "code",
   "execution_count": null,
   "metadata": {},
   "outputs": [],
   "source": [
    "a=1\n",
    "echo $a"
   ]
  },
  {
   "cell_type": "code",
   "execution_count": null,
   "metadata": {},
   "outputs": [],
   "source": [
    "test='ma chaîne de caractères'\n",
    "echo $test"
   ]
  },
  {
   "cell_type": "markdown",
   "metadata": {},
   "source": [
    "Lors de l'utilisation d'une variable, il est fortement recommandé d'entourer son nom par des accolades `{ }`. Par exemple :"
   ]
  },
  {
   "cell_type": "code",
   "execution_count": null,
   "metadata": {},
   "outputs": [],
   "source": [
    "a=1\n",
    "echo ${a}"
   ]
  },
  {
   "cell_type": "code",
   "execution_count": null,
   "metadata": {},
   "outputs": [],
   "source": [
    "test='ma chaine de caracteres'\n",
    "echo ${test}"
   ]
  },
  {
   "cell_type": "markdown",
   "metadata": {},
   "source": [
    "### Variable d'environnement\n",
    "\n",
    "Les variables d'environnement sont transmises au processus fils. Par convention, elles s'écrivent en majuscules. Elles sont déclarées comme variables d'environnement avec la commande `export`.\n",
    "\n",
    "Exemple :"
   ]
  },
  {
   "cell_type": "code",
   "execution_count": null,
   "metadata": {},
   "outputs": [],
   "source": [
    "export PROSPER='Youplaboum'\n",
    "echo ${PROSPER}"
   ]
  },
  {
   "cell_type": "markdown",
   "metadata": {},
   "source": [
    "Voici quelques variables d'environnement d'intérêt :\n",
    "\n",
    "- `PATH` contient les chemins d’accès (répertoires) où le *shell* recherche les commandes tapées par l’utilisateur.\n",
    "    ```\n",
    "    export PATH=${PATH}:/mon/nouveau/repertoire\n",
    "    ```\n",
    "    ajoute le contenu de `/mon/nouveau/repertoire` à la variable `PATH`.\n",
    "- `SHELL` contient le chemin vers le *shell* utilisateur (`/bin/bash` bien souvent).\n",
    "- `USER` contient le nom (identifiant) de l’utilisateur.\n",
    "- `HOSTNAME` contient le nom de la machine.\n",
    "- `HOME` contient le chemin vers le répertoire personnel de l'utilisateur.\n",
    "- `PWD` contient le chemin du répertoire courant.\n",
    "\n",
    "La commande `env` affiche toutes les variables d'environnement.\n",
    "\n",
    "Sur les ordinateurs du Script, la connexion internet se fait via un [proxy](https://fr.wikipedia.org/wiki/Proxy). Pour l'utiliser, il faut définir quelques variables d'environnement :\n",
    "```\n",
    "export http_proxy=http://www-cache.script.univ-paris-diderot.fr:3128/\n",
    "export https_proxy=http://www-cache.script.univ-paris-diderot.fr:3128/\n",
    "export ftp_proxy=http://www-cache.script.univ-paris-diderot.fr:3128/\n",
    "```\n",
    "\n",
    "On notera qu'ici, exceptionnellement, ces variables d'environnement sont écrites en minuscules."
   ]
  },
  {
   "cell_type": "markdown",
   "metadata": {},
   "source": [
    "### Configuration du *shell* Bash\n",
    "\n",
    "L'utilisateur peut configurer son *shell* Bash dans le fichier `.bashrc` situé dans le répertoire utilisateur (`$HOME`).\n",
    "\n",
    "Exemple de fichier `.bashrc` :\n",
    "```\n",
    "# commentaire\n",
    "alias ll='ls -lh'\n",
    "alias lt='ls -rt'\n",
    "\n",
    "export PATH=${PATH}:/my/new/dir\n",
    "```\n",
    "\n",
    "### Noms de variables\n",
    "\n",
    "Les noms de variables peuvent contenir des lettres majuscules de `A` à `Z`, des lettres minuscules de `a` à `z`, des chiffres de `0` à `9` ainsi que les caractères `_`, `-` ou `.`.\n",
    "\n",
    "\n",
    "### Guillemets doubles et simples\n",
    "\n",
    "Les guillemets doubles (`\"`) permettent l'interprétation des variables mais pas les guillemets simples (`'`). Exemple :\n"
   ]
  },
  {
   "cell_type": "code",
   "execution_count": null,
   "metadata": {},
   "outputs": [],
   "source": [
    "echo \"mon login est ${USER}\""
   ]
  },
  {
   "cell_type": "code",
   "execution_count": null,
   "metadata": {},
   "outputs": [],
   "source": [
    "echo 'mon login est ${USER}'"
   ]
  },
  {
   "cell_type": "markdown",
   "metadata": {},
   "source": [
    "\n",
    "## Attention aux caractères spéciaux dans les noms de fichiers\n",
    "\n",
    "L'utilisation des caractères spéciaux  `* ? ! $ < > & \\ / \" '  ; #` et des espaces dans les noms de fichiers n'est pas recommandé.\n",
    "\n",
    "Le caractère `\\` *échappe* le caractère spécial suivant de l’interprétation du *shell*.\n",
    "\n",
    "Par exemple, avec le fichier `mon fichier.txt`, l'affichage de son contenu (`hello world`) avec la commande `cat` pourra être problématique. Sans *échapper* l'espace contenu dans `mon fichier.txt`, `cat` va vouloir afficher les fichiers `mon` et `fichier.txt`, qui bien sûr n'existent pas :"
   ]
  },
  {
   "cell_type": "code",
   "execution_count": null,
   "metadata": {},
   "outputs": [],
   "source": [
    "cat mon fichier.txt"
   ]
  },
  {
   "cell_type": "markdown",
   "metadata": {},
   "source": [
    "Par contre, avec un espace correctement *échappé* avec `\\` ou le nom de fichier entre guillemets, on peut afficher le contenu de `mon fichier.txt`."
   ]
  },
  {
   "cell_type": "code",
   "execution_count": null,
   "metadata": {},
   "outputs": [],
   "source": [
    "cat mon\\ fichier.txt"
   ]
  },
  {
   "cell_type": "code",
   "execution_count": null,
   "metadata": {},
   "outputs": [],
   "source": [
    "cat \"mon fichier.txt\""
   ]
  },
  {
   "cell_type": "code",
   "execution_count": null,
   "metadata": {},
   "outputs": [],
   "source": [
    "cat 'mon fichier.txt'"
   ]
  },
  {
   "cell_type": "markdown",
   "metadata": {},
   "source": [
    "Mais de manière générale, ne mettez pas (jamais !) d'espace dans vos noms de fichiers.\n",
    "\n",
    "\n",
    "## Programmation\n",
    "\n",
    "> Fondamentalement, l'ordinateur et l'homme sont les deux opposés les plus intégraux qui existent. L'homme est lent, peu rigoureux et très intuitif. L'ordinateur est super rapide, très rigoureux et complètement con...\n",
    "\n",
    "-- Gérard Berry, informaticien, médaille d'or du CNRS 2014, professeur au collège de France ([entretien au Nouvel Obs](https://tempsreel.nouvelobs.com/rue89/rue89-le-grand-entretien/20160826.RUE7684/gerard-berry-l-ordinateur-est-completement-con.html), 2016).\n",
    "\n",
    "\n",
    "En programmation, on a besoin de faire 4 choses bien distinctes :\n",
    "\n",
    "1. Stocker de l'information (les variables).\n",
    "2. Manipuler cette information (les opérateurs).\n",
    "3. Répéter des actions (les boucles).\n",
    "4. Prendre des décisions (les tests).\n",
    "\n",
    "Une fois qu'on sait faire ces 4 choses, on peut pratiquement tout faire.\n",
    "\n",
    "\n",
    "### Script\n",
    "\n",
    "La plupart du temps, quand il y a plusieurs commandes Bash, on les écrit dans un fichier qu'on appelle un script.\n",
    "\n",
    "#### Exécution\n",
    "\n",
    "Pour pouvoir lancer un script, il doit être rendu exécutable. Par exemple avec `script.sh` :"
   ]
  },
  {
   "cell_type": "code",
   "execution_count": null,
   "metadata": {},
   "outputs": [],
   "source": [
    "chmod +x script.sh"
   ]
  },
  {
   "cell_type": "markdown",
   "metadata": {},
   "source": [
    "Cette opération n'est à faire qu'une seule fois.\n",
    "\n",
    "Le script est ensuité exécuté en l'appelant avec son nom, précédé de `./` si il se trouve dans le répertoire courant :"
   ]
  },
  {
   "cell_type": "code",
   "execution_count": null,
   "metadata": {},
   "outputs": [],
   "source": [
    "./script.sh"
   ]
  },
  {
   "cell_type": "markdown",
   "metadata": {},
   "source": [
    "ou du chemin complet vers le script si il se trouve dans un autre répertoire :\n",
    "\n",
    "```\n",
    "/chemin/complet/script.sh\n",
    "```"
   ]
  },
  {
   "cell_type": "markdown",
   "metadata": {},
   "source": [
    "**Remarque :** On peut parfaitement exécuter un script Bash sans qu'il ne soit exécutable. Mais il faut pour cela appeler explicitement l'interpréteur Bash :"
   ]
  },
  {
   "cell_type": "code",
   "execution_count": null,
   "metadata": {},
   "outputs": [],
   "source": [
    "bash script.sh"
   ]
  },
  {
   "cell_type": "markdown",
   "metadata": {},
   "source": [
    "#### Première ligne et shebang\n",
    "\n",
    "La première ligne du script est une ligne particulière qui débute par les caractères `#!` qu'on appelle [Shebang](https://fr.wikipedia.org/wiki/Shebang) (ou shabang) et qui contient le chemin pour trouver l'interpréteur de commandes, c'est-à-dire le *shell*. Pour Bash, on utilise :\n",
    "\n",
    "```\n",
    "#! /bin/bash\n",
    "```\n",
    "\n",
    "ou une forme plus générique :\n",
    "\n",
    "```\n",
    "#! /usr/bin/env bash\n",
    "```\n",
    "\n",
    "La commmande précédente est celle qui permettra d'utiliser le script Bash sur le plus de systèmes d'exploitation Unix / Linux différents. C'est celle à utiliser.\n",
    "\n",
    "\n",
    "À noter que l'option `-norc` permet ne pas prendre en compte le fichier de configuration `.bashrc` défini par l'utilisateur. Ce qui donne comme première ligne du script :\n",
    "\n",
    "```\n",
    "#! /usr/bin/env bash -norc\n",
    "```"
   ]
  },
  {
   "cell_type": "markdown",
   "metadata": {},
   "source": [
    "#### Arguments et variables prédéfinies\n",
    "\n",
    "Dans un script Bash, tout ce qui suit le caractère `#` est ignoré et considéré comme un commentaire (sauf pour la première ligne et le shebang).\n",
    "\n",
    "Il existe des variables prédéfinies comme :\n",
    "\n",
    "- `$1`, `$2`... les arguments de la ligne de commande.\n",
    "- `$*` tous les arguments de la ligne de commande.\n",
    "- `$#` le nombre d'arguments de la ligne de commande.\n",
    "\n",
    "Par exemple, avec le script `arg.sh` suivant :\n",
    "\n",
    "```\n",
    "#! /usr/bin/env bash\n",
    "\n",
    "# affiche le nombre d'arguments donnés dans la ligne de commande\n",
    "echo \"Nombre d'arguments : $#\"\n",
    "\n",
    "# affiche tous les arguments en une seule fois\n",
    "echo \"Tous les arguments : $*\"\n",
    "\n",
    "# affiche le premier argument, puis le deuxième, puis...\n",
    "echo \"Premier argument : $1\"\n",
    "echo \"Deuxième argument : $2\"\n",
    "echo \"Troisième argument : $3\"\n",
    "```\n",
    "\n",
    "Si on utilise maintenant `arg.sh` avec deux arguments (`toto` et `titi`) :"
   ]
  },
  {
   "cell_type": "code",
   "execution_count": null,
   "metadata": {},
   "outputs": [],
   "source": [
    "./arg.sh toto titi"
   ]
  },
  {
   "cell_type": "markdown",
   "metadata": {},
   "source": [
    "On remarque que l'affichage du troisième argument, qui pourtant n'existe pas, ne pose pas de problème à Bash. Par défaut, si une variable est appelée alors qu'elle n'a pas été définie au préalable, sa valeur est une chaîne de caractères vide.\n",
    "\n",
    "Si on utilise maintenant `arg.sh` avec trois arguments (`toto`, `titi` et `42`) :"
   ]
  },
  {
   "cell_type": "code",
   "execution_count": null,
   "metadata": {},
   "outputs": [],
   "source": [
    "./arg.sh toto titi 42"
   ]
  },
  {
   "cell_type": "markdown",
   "metadata": {},
   "source": [
    "#### Résultat d'une commande\n",
    "\n",
    "Il est possible de stocker le résultat d'une commande dans une variable :"
   ]
  },
  {
   "cell_type": "code",
   "execution_count": null,
   "metadata": {},
   "outputs": [],
   "source": [
    "nombre_femmes=$(awk '/woman/' people.dat | wc -l)\n",
    "echo ${nombre_femmes}"
   ]
  },
  {
   "cell_type": "markdown",
   "metadata": {},
   "source": [
    "On peut utiliser également les caractères `` ` `` :"
   ]
  },
  {
   "cell_type": "code",
   "execution_count": null,
   "metadata": {},
   "outputs": [],
   "source": [
    "nombre_femmes=`awk '/woman/' people.dat | wc -l`\n",
    "echo ${nombre_femmes}"
   ]
  },
  {
   "cell_type": "markdown",
   "metadata": {},
   "source": [
    "Toutefois, l'utilisation de `$( )` est préférable.\n",
    "\n",
    "\n",
    "#### Un dernier exemple\n",
    "\n",
    "Voici le script `var.sh` :\n",
    "```\n",
    "#! /usr/bin/env bash\n",
    "\n",
    "# define variables\n",
    "var1=123\n",
    "var2=\"Test for bash script\"\n",
    "var3=$(ls *.dat)\n",
    "\n",
    "# print local variables\n",
    "echo ${var1}\n",
    "echo ${var2}\n",
    "echo ${var3}\n",
    "\n",
    "# print environment variables\n",
    "echo \"User ${USER} is working on computer ${HOSTNAME}\"\n",
    "echo 'User ${USER} is working on computer ${HOSTNAME}'\n",
    "```\n",
    "\n",
    "On le rend exécutable avant la première utilisation :"
   ]
  },
  {
   "cell_type": "code",
   "execution_count": null,
   "metadata": {},
   "outputs": [],
   "source": [
    "chmod +x var.sh\n",
    "ls -l var.sh"
   ]
  },
  {
   "cell_type": "markdown",
   "metadata": {},
   "source": [
    "Puis on l'exécute :"
   ]
  },
  {
   "cell_type": "code",
   "execution_count": null,
   "metadata": {},
   "outputs": [],
   "source": [
    "./var.sh"
   ]
  },
  {
   "cell_type": "markdown",
   "metadata": {},
   "source": [
    "Soyez très attentifs aux différents type de guillemets utilisées (simples `'`, doubles `\"` ou inversés `` ` ``).\n",
    "\n",
    "**Astuce** : On peut récupérer la racine d'un nom de fichier, c'est-à-dire son nom sans l'extension, par deux méthodes :"
   ]
  },
  {
   "cell_type": "code",
   "execution_count": null,
   "metadata": {},
   "outputs": [],
   "source": [
    "name=\"people.dat\"\n",
    "root1=$(basename $name .dat)\n",
    "root2=${name%.dat}\n",
    "echo ${name} ${root1} ${root2}"
   ]
  },
  {
   "cell_type": "markdown",
   "metadata": {},
   "source": [
    "### Manipulation de variables\n",
    "\n",
    "Bash ne sait manipuler que les variables numériques entières :"
   ]
  },
  {
   "cell_type": "code",
   "execution_count": null,
   "metadata": {},
   "outputs": [],
   "source": [
    "i=3\n",
    "let i++\n",
    "echo $i"
   ]
  },
  {
   "cell_type": "code",
   "execution_count": null,
   "metadata": {},
   "outputs": [],
   "source": [
    "let i--\n",
    "echo $i"
   ]
  },
  {
   "cell_type": "code",
   "execution_count": null,
   "metadata": {},
   "outputs": [],
   "source": [
    "let i=$i+10\n",
    "echo $i"
   ]
  },
  {
   "cell_type": "markdown",
   "metadata": {},
   "source": [
    "On peut également manipuler des chaînes de caractères :"
   ]
  },
  {
   "cell_type": "code",
   "execution_count": null,
   "metadata": {},
   "outputs": [],
   "source": [
    "a=\"I love\"\n",
    "b=\"Unix\"\n",
    "echo \"$a $b\""
   ]
  },
  {
   "cell_type": "markdown",
   "metadata": {},
   "source": [
    "### Boucles for\n",
    "\n",
    "Les boucles permettent de répéter plusieurs fois des actions. Voici une boucle sur une liste d'éléments explicites :"
   ]
  },
  {
   "cell_type": "code",
   "execution_count": null,
   "metadata": {},
   "outputs": [],
   "source": [
    "for fruit in pomme poire fraise\n",
    "do\n",
    "    echo ${fruit}\n",
    "done"
   ]
  },
  {
   "cell_type": "markdown",
   "metadata": {},
   "source": [
    "Les actions à réaliser pour chacun des éléments de la boucle sont entre les mot-clefs `do` et `done`. Ici, il n'y a qu'une action `echo ${fruit}`, c'est-à-dire l'affichage du contenu de la variable `fruit`.\n",
    "\n",
    "L'indentation -- le retrait à droite -- des actions à réaliser dans la boucle n'est pas obligatoire mais facilite la lecture de la boucle.\n",
    "\n",
    "\n",
    "Voici maintenant une boucle sur les fichiers `.sh` du répertoire courant :"
   ]
  },
  {
   "cell_type": "code",
   "execution_count": null,
   "metadata": {},
   "outputs": [],
   "source": [
    "for i in *.sh\n",
    "do\n",
    "    echo $i\n",
    "done"
   ]
  },
  {
   "cell_type": "markdown",
   "metadata": {},
   "source": [
    "Et une boucle pour afficher tous les mots de fichier `haiku.txt`, un mot par ligne :\n"
   ]
  },
  {
   "cell_type": "code",
   "execution_count": null,
   "metadata": {},
   "outputs": [],
   "source": [
    "for i in $(cat haiku.txt)\n",
    "do\n",
    "    echo $i\n",
    "done"
   ]
  },
  {
   "cell_type": "markdown",
   "metadata": {},
   "source": [
    "La même chose sur une seule ligne :"
   ]
  },
  {
   "cell_type": "code",
   "execution_count": null,
   "metadata": {},
   "outputs": [],
   "source": [
    "for i in $(cat haiku.txt) ; do echo $i ; done"
   ]
  },
  {
   "cell_type": "markdown",
   "metadata": {},
   "source": [
    "### Test\n",
    "\n",
    "Les tests sont très utiles pour prendre des décisions.\n",
    "\n",
    "#### Structure\n",
    "\n",
    "Voici un premier test simple :"
   ]
  },
  {
   "cell_type": "code",
   "execution_count": null,
   "metadata": {},
   "outputs": [],
   "source": [
    "if free -h | grep Mem\n",
    "then\n",
    "    echo \"Calcul de la mémoire vive : OK\"\n",
    "fi"
   ]
  },
  {
   "cell_type": "markdown",
   "metadata": {},
   "source": [
    "Si la commande `free -h | grep Mem` qui permet d'obtenir la quantité de mémoire vive sur la machine s'exécute correctement, alors le programme affiche `Calcul de la mémoire vive : OK`.\n",
    "\n",
    "Les actions à exécuter lorsque le test est correct se trouvent entre les mot-clefs `then` et `fi`. On peut ajouter le mot-clef `else` pour exécuter des actions si le test n'est pas correct :"
   ]
  },
  {
   "cell_type": "code",
   "execution_count": null,
   "metadata": {},
   "outputs": [],
   "source": [
    "if free -h | grep Mem\n",
    "then\n",
    "    echo \"Calcul de la mémoire vive : OK\"\n",
    "else\n",
    "    echo \"Calcul de la mémoire vive impossible\"\n",
    "fi"
   ]
  },
  {
   "cell_type": "markdown",
   "metadata": {},
   "source": [
    "Si la commande `free -h | grep Mem` ne s'exécute pas correctement alors le programme affiche `Calcul de la mémoire vive impossible`."
   ]
  },
  {
   "cell_type": "markdown",
   "metadata": {},
   "source": [
    "#### Opérateurs de comparaison\n",
    "\n",
    "Mais le plus souvent, pour faire un test, on réalise une ou plusieurs comparaisons. Une comparaison utilise des opérateurs.\n",
    "\n",
    "Opérateurs pour des entiers :\n",
    "\n",
    "| opérateur  | signification        |\n",
    "|:----------:|----------------------|\n",
    "| `-eq`      | égal à               |\n",
    "| `-ne`      | différent de         |\n",
    "| `-gt`      | supérieur à          |\n",
    "| `-ge`      | supérieur ou égale à |\n",
    "| `-lt`      | inférieur à          |\n",
    "| `-le`      | inférieur ou égale à |\n",
    "\n",
    "\n",
    "Opérateurs pour des chaînes de caractères :\n",
    "\n",
    "| opérateur  | signification        |\n",
    "|:----------:|----------------------|\n",
    "| `=`        | égal à               |\n",
    "| `!=`       | différent de         |\n",
    "| `>`        | supérieur à          |\n",
    "| `<`        | inférieur à          |\n",
    "| `-z`       | vide                 |\n",
    "\n",
    "\n",
    "Opérateurs pour des fichiers :\n",
    "\n",
    "| opérateur  | signification                                         |\n",
    "|:----------:|-------------------------------------------------------|\n",
    "| `-e`       | le fichier existe                                     |\n",
    "| `-s`       | le fichier existe et sa taille est non nulle          |\n",
    "| `-r`       | le fichier existe et est lisible par l'utilisateur    |\n",
    "| `-w`       | le fichier existe et est modifiable par l'utilisateur |\n",
    "| `-x`       | le fichier existe et est exécutable par l'utilisateur |\n",
    "\n",
    "L'opérateur `!` est un peu particulier car c'est l'opérateur de négation.\n",
    "\n",
    "Voici un premier exemple avec une comparaison de nombres entiers :"
   ]
  },
  {
   "cell_type": "code",
   "execution_count": null,
   "metadata": {},
   "outputs": [],
   "source": [
    "i=4\n",
    "if [[ $i -eq 10 ]]\n",
    "then\n",
    "    echo \"i vaut $i\"\n",
    "else\n",
    "    echo \"test negatif\"\n",
    "fi"
   ]
  },
  {
   "cell_type": "markdown",
   "metadata": {},
   "source": [
    "Notez bien l'utilisation des doubles crochets ouvrants et fermants (`[[ ]]`) qui encadrent la comparaison. Il est impératif de garder un espace après `[[ ` et un espace avant ` ]]`.\n",
    "\n",
    "Voici maintenant deux autres exemples avec des comparaisons de chaînes de caractères :"
   ]
  },
  {
   "cell_type": "code",
   "execution_count": null,
   "metadata": {},
   "outputs": [],
   "source": [
    "prenom=\"Pierre\"\n",
    "if [[ ${prenom} = \"Pierre\" ]]\n",
    "then\n",
    "    echo \"Accès autorisé\"\n",
    "else\n",
    "    echo \"Accès refusé\"\n",
    "fi"
   ]
  },
  {
   "cell_type": "code",
   "execution_count": null,
   "metadata": {},
   "outputs": [],
   "source": [
    "msg=\"hello\"\n",
    "if [[ ! -z ${msg} ]]\n",
    "then\n",
    "    echo \"msg vaut ${msg}\"\n",
    "else\n",
    "    echo \"msg est nulle\"\n",
    "fi"
   ]
  },
  {
   "cell_type": "markdown",
   "metadata": {},
   "source": [
    "La comparaison `-z ${msg}` vérifie si la variable `msg` est vide donc la comparaison `! -z ${msg}` vérifie que `msg` n'est **pas** vide.\n",
    "\n",
    "Enfin, voici un dernier exemple avec une comparaison de fichier :"
   ]
  },
  {
   "cell_type": "code",
   "execution_count": null,
   "metadata": {},
   "outputs": [],
   "source": [
    "if [[ -e /bin/bash ]]\n",
    "then\n",
    "    echo \"Shell Bash trouvé !\"\n",
    "fi"
   ]
  },
  {
   "cell_type": "markdown",
   "metadata": {},
   "source": [
    "Si le fichier `/bin/bash` existe, alors on affiche le message `Shell Bash trouvé !`.\n",
    "\n",
    "\n",
    "**Remarque :** Vous pourrez trouver dans des livres ou sur internet d'autres manières d'écrire des tests.\n",
    "\n",
    "- Avec un seul crochet ouvrant et fermant `[ ]` :"
   ]
  },
  {
   "cell_type": "code",
   "execution_count": null,
   "metadata": {},
   "outputs": [],
   "source": [
    "msg=\"hello\"\n",
    "if [ ! -z ${msg} ]\n",
    "then\n",
    "    echo \"msg vaut ${msg}\"\n",
    "else\n",
    "    echo \"msg est nulle\"\n",
    "fi"
   ]
  },
  {
   "cell_type": "markdown",
   "metadata": {},
   "source": [
    "- Avec la commande Bash `test` :"
   ]
  },
  {
   "cell_type": "code",
   "execution_count": null,
   "metadata": {},
   "outputs": [],
   "source": [
    "msg=\"hello\"\n",
    "if test ! -z ${msg}\n",
    "then\n",
    "    echo \"msg vaut ${msg}\"\n",
    "else\n",
    "    echo \"msg est nulle\"\n",
    "fi"
   ]
  },
  {
   "cell_type": "markdown",
   "metadata": {},
   "source": [
    "La méthode avec les doubles crochets `[[ ]]` est celle qui est recommandée et qu'il faut utiliser avec Bash. Pour en savoir plus, vous pouvez lire :\n",
    "\n",
    "- [Bash test and comparison functions](https://www.ibm.com/developerworks/library/l-bash-test/index.html)\n",
    "- [Test Constructs](http://www.tldp.org/LDP/abs/html/testconstructs.html)\n",
    "\n",
    "\n",
    "#### Combinaisons de comparaison\n",
    "\n",
    "Enfin, on peut également combiner plusieurs comparaisons dans un même test avec des opérateurs booléens :\n",
    "\n",
    "| opérateur  | signification |\n",
    "|:----------:|---------------|\n",
    "| `&&`       | et            |\n",
    "| `\\|\\|`       | ou            |\n",
    "\n",
    "\n",
    "Exemple :\n"
   ]
  },
  {
   "cell_type": "code",
   "execution_count": null,
   "metadata": {},
   "outputs": [],
   "source": [
    "msg=\"hello\"\n",
    "nombre=2\n",
    "if [[ ! -z ${msg} && ${nombre} -eq 2 ]]\n",
    "then\n",
    "    echo \"tests OK\"\n",
    "fi"
   ]
  },
  {
   "cell_type": "markdown",
   "metadata": {},
   "source": [
    "La combinaison des deux comparaisons `! -z ${msg}` et `${nombre} -eq 2` se fait avec l'opérateur *et* logique `&&`. Les deux comparaisons se trouvent entre les doubles crochets `[[` et `]]`.\n",
    "\n",
    "\n",
    "### Boucle while\n",
    "\n",
    "Il existe un second type de boucles, qui utilise le mot-clef `while` :\n"
   ]
  },
  {
   "cell_type": "code",
   "execution_count": null,
   "metadata": {},
   "outputs": [],
   "source": [
    "nombre=1\n",
    "while [[ ${nombre} -le 5 ]]\n",
    "do\n",
    "    echo \"nombre vaut ${nombre}\"\n",
    "    let nombre++\n",
    "done"
   ]
  },
  {
   "cell_type": "markdown",
   "metadata": {},
   "source": [
    "Si on enregistre cet exemple dans le script `while.sh` et qu'on l'exécute ensuite, on obtient :"
   ]
  },
  {
   "cell_type": "code",
   "execution_count": null,
   "metadata": {},
   "outputs": [],
   "source": [
    "./while.sh"
   ]
  },
  {
   "cell_type": "markdown",
   "metadata": {},
   "source": [
    "La boucle s'exécute tant que la variable `nombre` est inférieure ou égale à 5.\n",
    "\n",
    "Les boucles `while` sont un peu particulières car pour fonctionner, elles ont besoin d'une variable :\n",
    "\n",
    "- initialisée avant la boucle (`nombre=1`) ;\n",
    "- testée au niveau du mot-clef `while` (`while [[ ${nombre} -le 5 ]]`) ;\n",
    "- et incrémentée (modifiée) dans le corps de la boucle, c'est-à-dire entre les mot-clefs `do` et `done` (`let nombre++`).\n",
    "\n",
    "\n",
    "### Quitter un script\n",
    "\n",
    "La commande `exit` permet de quitter un script. Voici un exemple avec le script `exit.sh` et qui en plus utilise la boucle `while` et le test avec `if` :\n",
    "```\n",
    "#! /usr/bin/env bash\n",
    "\n",
    "# script pour tester la commande exit\n",
    "\n",
    "nombre=1\n",
    "while [[ ${nombre} -le 5 ]]\n",
    "do\n",
    "    echo \"nombre vaut ${nombre}\"\n",
    "    if [[ ${nombre} -eq 3 ]]\n",
    "    then\n",
    "        echo \"Au revoir\"\n",
    "        exit\n",
    "    fi\n",
    "    let nombre++\n",
    "done\n",
    "```"
   ]
  },
  {
   "cell_type": "markdown",
   "metadata": {},
   "source": [
    "On rend exécutable ce script avec la commande `chmod`, puis on le lance :"
   ]
  },
  {
   "cell_type": "code",
   "execution_count": null,
   "metadata": {},
   "outputs": [],
   "source": [
    "chmod +x exit.sh\n",
    "./exit.sh"
   ]
  },
  {
   "cell_type": "markdown",
   "metadata": {},
   "source": [
    "Quand la variable `nombre` atteint la valeur 3, le test `[[ ${nombre} -eq 3 ]]` est vérifié et le script s'arrête avec la commande `exit`."
   ]
  },
  {
   "cell_type": "markdown",
   "metadata": {},
   "source": [
    "## Pour conclure sur la programmation en générale et Bash en particulier\n",
    "\n",
    "> Programs must be written for people to read, and only incidentally for machines to execute.\n",
    "\n",
    "-- [Harold Abelsen](https://fr.wikipedia.org/wiki/Hal_Abelson), *Structure and Interpretation of Computer Programs*, The MIT Press, 1996, préface de la première édition.\n",
    "\n",
    "H. Abelsen est informaticien et un membre fondateur des Creatives Commons et de la Free Software Foundation.\n",
    "\n",
    "\n",
    "Nous vous conseillons fortement de suivre ce principe et de rendre vos scripts Bash clairs et lisibles. Pour cela, vos programmes et scripts doivent contenir :\n",
    "\n",
    "- des commentaires précis et informatifs ;\n",
    "- des noms de variables qui ont du sens ;\n",
    "- une structure et une organisation claire.\n",
    "\n",
    "\n",
    "## Ressources complémentaires\n",
    "\n",
    "[Bash scripting cheatsheet](https://devhints.io/bash) : un mémo sur les principales commandes Bash.\n",
    "\n",
    "[Shell Scripting Tutorial](https://www.shellscript.sh/index.html) : un tutoriel intéressant sur *shell* Bash.\n",
    "\n",
    "[Bash scripting quirks & safety tips](https://jvns.ca/blog/2017/03/26/bash-quirks/) : bonnes pratiques sur l'écriture de scripts Bash.\n",
    "\n",
    "[ShellCheck](https://www.shellcheck.net/) : un outil en ligne qui vérifie la qualité d'un script Bash et propose des conseils pour l'améliorer.\n",
    "\n",
    "[Writing Scripts](http://www.datacarpentry.org/shell-genomics/05-writing-scripts/) du tutoriel [Shell Genomics](http://www.datacarpentry.org/shell-genomics/) de [Data Carpentry](http://www.datacarpentry.org/)."
   ]
  },
  {
   "cell_type": "code",
   "execution_count": null,
   "metadata": {},
   "outputs": [],
   "source": []
  }
 ],
 "metadata": {
  "kernelspec": {
   "display_name": "Bash",
   "language": "bash",
   "name": "bash"
  },
  "language_info": {
   "codemirror_mode": "shell",
   "file_extension": ".sh",
   "mimetype": "text/x-sh",
   "name": "bash"
  }
 },
 "nbformat": 4,
 "nbformat_minor": 4
}
