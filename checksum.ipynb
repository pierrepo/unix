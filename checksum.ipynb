{
 "cells": [
  {
   "cell_type": "markdown",
   "metadata": {},
   "source": [
    "# Sommes de contrôle\n",
    "\n",
    "---\n",
    "\n",
    "Les sommes de contrôle sont la signature ou l'empreinte numérique (*hash*) d'un fichier.\n",
    "\n",
    "Elles sont particulièrement utiles pour vérifier l'intégrité d'un fichier.\n",
    "\n",
    "![](checksum.png)\n",
    "\n",
    "En passant un fichier dans un algorithme particulier, on obtient une somme de contrôle, souvent représentée comme une suite de chiffres et de lettres."
   ]
  },
  {
   "cell_type": "markdown",
   "metadata": {},
   "source": [
    "# MD5\n",
    "\n",
    "L'agorithme *Message Digest 5* (MD5) est un des algorithmes les plus utilisés et un des plus anciens. Il date de 1991.\n",
    "\n",
    "Cet algorithme est (était) utilisé en cryptographie. \n",
    "\n",
    "L'empreinte est obtenue est représentée sur 32 caractatères. Par exemple : \n",
    "```\n",
    "0648b3abc5c0e0e7cbf78c466670affa\n",
    "```\n",
    "\n",
    "La probabilité que 2 fichiers différents possèdent la même empreinte est de l'ordre de $2^{-128}$.\n",
    "\n",
    "## Démo\n",
    "\n",
    "Nettoyage des éventuels fichiers résiduels :"
   ]
  },
  {
   "cell_type": "code",
   "execution_count": null,
   "metadata": {},
   "outputs": [],
   "source": [
    "rm -f test1.txt test2.txt test3.txt gyra_coll.jpg souvlaki_coll.jpg"
   ]
  },
  {
   "cell_type": "markdown",
   "metadata": {},
   "source": [
    "Téléchargement des fichiers nécessaires :"
   ]
  },
  {
   "cell_type": "code",
   "execution_count": null,
   "metadata": {},
   "outputs": [],
   "source": [
    "wget https://github.com/pierrepo/unix/raw/master/gyra_coll.jpg\n",
    "wget https://github.com/pierrepo/unix/raw/master/souvlaki_coll.jpg"
   ]
  },
  {
   "cell_type": "markdown",
   "metadata": {},
   "source": [
    "Prenons 2 fichiers, `test1.txt` et `test2.txt` qui contiennent chacun une chaîne de caractères très simple :\n",
    "\n",
    "- « Salut à tous » pour `test1.txt` ;\n",
    "- « Salut a tous » pour `test2.txt` (le « a » n'a pas d'accent)."
   ]
  },
  {
   "cell_type": "code",
   "execution_count": null,
   "metadata": {},
   "outputs": [],
   "source": [
    "echo \"Salut à tous\" > test1.txt\n",
    "cat test1.txt"
   ]
  },
  {
   "cell_type": "code",
   "execution_count": null,
   "metadata": {},
   "outputs": [],
   "source": [
    "echo \"Salut a tous\" > test2.txt\n",
    "cat test2.txt"
   ]
  },
  {
   "cell_type": "markdown",
   "metadata": {},
   "source": [
    "Calculons maintenant la somme de contrôle pour ces deux fichiers :"
   ]
  },
  {
   "cell_type": "code",
   "execution_count": null,
   "metadata": {},
   "outputs": [],
   "source": [
    "md5sum test1.txt"
   ]
  },
  {
   "cell_type": "code",
   "execution_count": null,
   "metadata": {},
   "outputs": [],
   "source": [
    "md5sum test2.txt"
   ]
  },
  {
   "cell_type": "markdown",
   "metadata": {},
   "source": [
    "Bien qu'un seul caractère diffère entre les deux fichiers `test1.txt` et `test2.txt` (« à » et « a »), les empreintes sont totalement différentes. Il n'y a enfin aucune relation entre le contenu d'un fichier et son empreinte.\n",
    "\n",
    "Par ailleurs, il n'est pas possible de déduire le contenu d'un fichier à partir de sa somme de contrôle.\n",
    "\n",
    "Copions maintenant le fichier `test1.txt` :"
   ]
  },
  {
   "cell_type": "code",
   "execution_count": null,
   "metadata": {},
   "outputs": [],
   "source": [
    "cp test1.txt test3.txt"
   ]
  },
  {
   "cell_type": "markdown",
   "metadata": {},
   "source": [
    "et calculons son empreinte :"
   ]
  },
  {
   "cell_type": "code",
   "execution_count": null,
   "metadata": {},
   "outputs": [],
   "source": [
    "md5sum test3.txt"
   ]
  },
  {
   "cell_type": "markdown",
   "metadata": {},
   "source": [
    "L'empreinte de `test3.txt` est identique à celle de `test1.txt`. Cela est parfaitement logique car nous avons réalisé une copie des deux fichiers. Leurs contenus sont donc strictement identiques."
   ]
  },
  {
   "cell_type": "markdown",
   "metadata": {},
   "source": [
    "<div class=\"alert alert-block alert-info\">\n",
    "Attention, si vous reproduisez cet exemple, il se peut que vous n'obteniez pas les mêmes sommes de contrôle suivant que vous ayez ajouté un retour en ligne et votre système d'exploitation.\n",
    "</div>"
   ]
  },
  {
   "cell_type": "markdown",
   "metadata": {},
   "source": [
    "## D'autres exemples\n",
    "\n",
    "Voici deux images :\n",
    "\n",
    "![](gyra_coll.jpg)\n",
    "![](souvlaki_coll.jpg)\n",
    "\n",
    "Images tirées du blog de [emaragkos](https://emaragkos.gr/infosec-adventures/create-your-own-md5-collisions/).\n",
    "\n",
    "Calculons leurs sommes de contrôle.\n",
    "\n",
    "L'image du chat Gyra :"
   ]
  },
  {
   "cell_type": "code",
   "execution_count": null,
   "metadata": {},
   "outputs": [],
   "source": [
    "md5sum gyra_coll.jpg"
   ]
  },
  {
   "cell_type": "markdown",
   "metadata": {},
   "source": [
    "L'image des souvlakis :"
   ]
  },
  {
   "cell_type": "code",
   "execution_count": null,
   "metadata": {},
   "outputs": [],
   "source": [
    "md5sum souvlaki_coll.jpg"
   ]
  },
  {
   "cell_type": "markdown",
   "metadata": {},
   "source": [
    "Intéressant n'est-ce pas !\n",
    "\n",
    "L'algorithme MD5 n'est plus considéré comme sécurisé."
   ]
  },
  {
   "cell_type": "markdown",
   "metadata": {},
   "source": [
    "D'autres exemples de collisions avec l'algorithme MD5 :\n",
    "\n",
    "- [Create your own MD5 collisions](https://natmchugh.blogspot.com/2015/02/create-your-own-md5-collisions.html), Nat McHugh.\n",
    "- [MD5Collisions](http://web.archive.org/web/20071226014140/http://www.cits.rub.de/MD5Collisions/)"
   ]
  }
 ],
 "metadata": {
  "kernelspec": {
   "display_name": "Bash",
   "language": "bash",
   "name": "bash"
  },
  "language_info": {
   "codemirror_mode": "shell",
   "file_extension": ".sh",
   "mimetype": "text/x-sh",
   "name": "bash"
  }
 },
 "nbformat": 4,
 "nbformat_minor": 4
}
